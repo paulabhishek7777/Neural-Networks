{
  "cells": [
    {
      "cell_type": "markdown",
      "metadata": {
        "id": "3LmX_yrfPqHq"
      },
      "source": [
        "## Hepatitis"
      ]
    },
    {
      "cell_type": "code",
      "execution_count": null,
      "metadata": {
        "id": "9HLX2YK5SUdn"
      },
      "outputs": [],
      "source": [
        "import pandas as pd\n",
        "import numpy as np\n",
        "%matplotlib inline\n",
        "from matplotlib import pyplot as plt\n",
        "import seaborn as sns"
      ]
    },
    {
      "cell_type": "code",
      "execution_count": null,
      "metadata": {
        "id": "Lo8inao2SsOJ"
      },
      "outputs": [],
      "source": [
        "df = pd.read_csv(\"/content/drive/MyDrive/neural network UNP/hepatitis.csv\")"
      ]
    },
    {
      "cell_type": "code",
      "execution_count": null,
      "metadata": {
        "colab": {
          "base_uri": "https://localhost:8080/"
        },
        "id": "4HK8G7FcS80P",
        "outputId": "07feed65-741b-470c-e3a4-d667a80ebbdd"
      },
      "outputs": [
        {
          "output_type": "execute_result",
          "data": {
            "text/plain": [
              "     class  age  sex  steroid  antivirals  fatigue  malaise  anorexia  \\\n",
              "0        2   30    2        1           2        2        2         2   \n",
              "1        2   50    1        1           2        1        2         2   \n",
              "2        2   78    1        2           2        1        2         2   \n",
              "3        2   34    1        2           2        2        2         2   \n",
              "4        2   34    1        2           2        2        2         2   \n",
              "..     ...  ...  ...      ...         ...      ...      ...       ...   \n",
              "137      1   46    1        2           2        1        1         1   \n",
              "138      2   44    1        2           2        1        2         2   \n",
              "139      2   61    1        1           2        1        1         2   \n",
              "140      2   53    2        1           2        1        2         2   \n",
              "141      1   43    1        2           2        1        2         2   \n",
              "\n",
              "     liver_big  liver_firm  spleen_palable  spiders  ascites  varices  \\\n",
              "0            1           2               2        2        2        2   \n",
              "1            1           2               2        2        2        2   \n",
              "2            2           2               2        2        2        2   \n",
              "3            2           2               2        2        2        2   \n",
              "4            2           2               2        2        2        2   \n",
              "..         ...         ...             ...      ...      ...      ...   \n",
              "137          2           1               2        1        1        1   \n",
              "138          2           1               2        2        2        2   \n",
              "139          1           2               2        1        2        2   \n",
              "140          2           2               1        1        2        1   \n",
              "141          2           2               1        1        1        2   \n",
              "\n",
              "     bilirubin  alk_phosphate  sgot  albumin  protime  histology  \n",
              "0          1.0             85    18      4.0       61          1  \n",
              "1          0.9            135    42      3.5       61          1  \n",
              "2          0.7             96    32      4.0       61          1  \n",
              "3          1.0            105   200      4.0       61          1  \n",
              "4          0.9             95    28      4.0       75          1  \n",
              "..         ...            ...   ...      ...      ...        ...  \n",
              "137        7.6            105   242      3.3       50          2  \n",
              "138        0.9            126   142      4.3       61          2  \n",
              "139        0.8             75    20      4.1       61          2  \n",
              "140        1.5             81    19      4.1       48          2  \n",
              "141        1.2            100    19      3.1       42          2  \n",
              "\n",
              "[142 rows x 20 columns]"
            ],
            "text/html": [
              "\n",
              "  <div id=\"df-e7e3f8a5-cf26-4e2f-993f-96f4ad7027c0\">\n",
              "    <div class=\"colab-df-container\">\n",
              "      <div>\n",
              "<style scoped>\n",
              "    .dataframe tbody tr th:only-of-type {\n",
              "        vertical-align: middle;\n",
              "    }\n",
              "\n",
              "    .dataframe tbody tr th {\n",
              "        vertical-align: top;\n",
              "    }\n",
              "\n",
              "    .dataframe thead th {\n",
              "        text-align: right;\n",
              "    }\n",
              "</style>\n",
              "<table border=\"1\" class=\"dataframe\">\n",
              "  <thead>\n",
              "    <tr style=\"text-align: right;\">\n",
              "      <th></th>\n",
              "      <th>class</th>\n",
              "      <th>age</th>\n",
              "      <th>sex</th>\n",
              "      <th>steroid</th>\n",
              "      <th>antivirals</th>\n",
              "      <th>fatigue</th>\n",
              "      <th>malaise</th>\n",
              "      <th>anorexia</th>\n",
              "      <th>liver_big</th>\n",
              "      <th>liver_firm</th>\n",
              "      <th>spleen_palable</th>\n",
              "      <th>spiders</th>\n",
              "      <th>ascites</th>\n",
              "      <th>varices</th>\n",
              "      <th>bilirubin</th>\n",
              "      <th>alk_phosphate</th>\n",
              "      <th>sgot</th>\n",
              "      <th>albumin</th>\n",
              "      <th>protime</th>\n",
              "      <th>histology</th>\n",
              "    </tr>\n",
              "  </thead>\n",
              "  <tbody>\n",
              "    <tr>\n",
              "      <th>0</th>\n",
              "      <td>2</td>\n",
              "      <td>30</td>\n",
              "      <td>2</td>\n",
              "      <td>1</td>\n",
              "      <td>2</td>\n",
              "      <td>2</td>\n",
              "      <td>2</td>\n",
              "      <td>2</td>\n",
              "      <td>1</td>\n",
              "      <td>2</td>\n",
              "      <td>2</td>\n",
              "      <td>2</td>\n",
              "      <td>2</td>\n",
              "      <td>2</td>\n",
              "      <td>1.0</td>\n",
              "      <td>85</td>\n",
              "      <td>18</td>\n",
              "      <td>4.0</td>\n",
              "      <td>61</td>\n",
              "      <td>1</td>\n",
              "    </tr>\n",
              "    <tr>\n",
              "      <th>1</th>\n",
              "      <td>2</td>\n",
              "      <td>50</td>\n",
              "      <td>1</td>\n",
              "      <td>1</td>\n",
              "      <td>2</td>\n",
              "      <td>1</td>\n",
              "      <td>2</td>\n",
              "      <td>2</td>\n",
              "      <td>1</td>\n",
              "      <td>2</td>\n",
              "      <td>2</td>\n",
              "      <td>2</td>\n",
              "      <td>2</td>\n",
              "      <td>2</td>\n",
              "      <td>0.9</td>\n",
              "      <td>135</td>\n",
              "      <td>42</td>\n",
              "      <td>3.5</td>\n",
              "      <td>61</td>\n",
              "      <td>1</td>\n",
              "    </tr>\n",
              "    <tr>\n",
              "      <th>2</th>\n",
              "      <td>2</td>\n",
              "      <td>78</td>\n",
              "      <td>1</td>\n",
              "      <td>2</td>\n",
              "      <td>2</td>\n",
              "      <td>1</td>\n",
              "      <td>2</td>\n",
              "      <td>2</td>\n",
              "      <td>2</td>\n",
              "      <td>2</td>\n",
              "      <td>2</td>\n",
              "      <td>2</td>\n",
              "      <td>2</td>\n",
              "      <td>2</td>\n",
              "      <td>0.7</td>\n",
              "      <td>96</td>\n",
              "      <td>32</td>\n",
              "      <td>4.0</td>\n",
              "      <td>61</td>\n",
              "      <td>1</td>\n",
              "    </tr>\n",
              "    <tr>\n",
              "      <th>3</th>\n",
              "      <td>2</td>\n",
              "      <td>34</td>\n",
              "      <td>1</td>\n",
              "      <td>2</td>\n",
              "      <td>2</td>\n",
              "      <td>2</td>\n",
              "      <td>2</td>\n",
              "      <td>2</td>\n",
              "      <td>2</td>\n",
              "      <td>2</td>\n",
              "      <td>2</td>\n",
              "      <td>2</td>\n",
              "      <td>2</td>\n",
              "      <td>2</td>\n",
              "      <td>1.0</td>\n",
              "      <td>105</td>\n",
              "      <td>200</td>\n",
              "      <td>4.0</td>\n",
              "      <td>61</td>\n",
              "      <td>1</td>\n",
              "    </tr>\n",
              "    <tr>\n",
              "      <th>4</th>\n",
              "      <td>2</td>\n",
              "      <td>34</td>\n",
              "      <td>1</td>\n",
              "      <td>2</td>\n",
              "      <td>2</td>\n",
              "      <td>2</td>\n",
              "      <td>2</td>\n",
              "      <td>2</td>\n",
              "      <td>2</td>\n",
              "      <td>2</td>\n",
              "      <td>2</td>\n",
              "      <td>2</td>\n",
              "      <td>2</td>\n",
              "      <td>2</td>\n",
              "      <td>0.9</td>\n",
              "      <td>95</td>\n",
              "      <td>28</td>\n",
              "      <td>4.0</td>\n",
              "      <td>75</td>\n",
              "      <td>1</td>\n",
              "    </tr>\n",
              "    <tr>\n",
              "      <th>...</th>\n",
              "      <td>...</td>\n",
              "      <td>...</td>\n",
              "      <td>...</td>\n",
              "      <td>...</td>\n",
              "      <td>...</td>\n",
              "      <td>...</td>\n",
              "      <td>...</td>\n",
              "      <td>...</td>\n",
              "      <td>...</td>\n",
              "      <td>...</td>\n",
              "      <td>...</td>\n",
              "      <td>...</td>\n",
              "      <td>...</td>\n",
              "      <td>...</td>\n",
              "      <td>...</td>\n",
              "      <td>...</td>\n",
              "      <td>...</td>\n",
              "      <td>...</td>\n",
              "      <td>...</td>\n",
              "      <td>...</td>\n",
              "    </tr>\n",
              "    <tr>\n",
              "      <th>137</th>\n",
              "      <td>1</td>\n",
              "      <td>46</td>\n",
              "      <td>1</td>\n",
              "      <td>2</td>\n",
              "      <td>2</td>\n",
              "      <td>1</td>\n",
              "      <td>1</td>\n",
              "      <td>1</td>\n",
              "      <td>2</td>\n",
              "      <td>1</td>\n",
              "      <td>2</td>\n",
              "      <td>1</td>\n",
              "      <td>1</td>\n",
              "      <td>1</td>\n",
              "      <td>7.6</td>\n",
              "      <td>105</td>\n",
              "      <td>242</td>\n",
              "      <td>3.3</td>\n",
              "      <td>50</td>\n",
              "      <td>2</td>\n",
              "    </tr>\n",
              "    <tr>\n",
              "      <th>138</th>\n",
              "      <td>2</td>\n",
              "      <td>44</td>\n",
              "      <td>1</td>\n",
              "      <td>2</td>\n",
              "      <td>2</td>\n",
              "      <td>1</td>\n",
              "      <td>2</td>\n",
              "      <td>2</td>\n",
              "      <td>2</td>\n",
              "      <td>1</td>\n",
              "      <td>2</td>\n",
              "      <td>2</td>\n",
              "      <td>2</td>\n",
              "      <td>2</td>\n",
              "      <td>0.9</td>\n",
              "      <td>126</td>\n",
              "      <td>142</td>\n",
              "      <td>4.3</td>\n",
              "      <td>61</td>\n",
              "      <td>2</td>\n",
              "    </tr>\n",
              "    <tr>\n",
              "      <th>139</th>\n",
              "      <td>2</td>\n",
              "      <td>61</td>\n",
              "      <td>1</td>\n",
              "      <td>1</td>\n",
              "      <td>2</td>\n",
              "      <td>1</td>\n",
              "      <td>1</td>\n",
              "      <td>2</td>\n",
              "      <td>1</td>\n",
              "      <td>2</td>\n",
              "      <td>2</td>\n",
              "      <td>1</td>\n",
              "      <td>2</td>\n",
              "      <td>2</td>\n",
              "      <td>0.8</td>\n",
              "      <td>75</td>\n",
              "      <td>20</td>\n",
              "      <td>4.1</td>\n",
              "      <td>61</td>\n",
              "      <td>2</td>\n",
              "    </tr>\n",
              "    <tr>\n",
              "      <th>140</th>\n",
              "      <td>2</td>\n",
              "      <td>53</td>\n",
              "      <td>2</td>\n",
              "      <td>1</td>\n",
              "      <td>2</td>\n",
              "      <td>1</td>\n",
              "      <td>2</td>\n",
              "      <td>2</td>\n",
              "      <td>2</td>\n",
              "      <td>2</td>\n",
              "      <td>1</td>\n",
              "      <td>1</td>\n",
              "      <td>2</td>\n",
              "      <td>1</td>\n",
              "      <td>1.5</td>\n",
              "      <td>81</td>\n",
              "      <td>19</td>\n",
              "      <td>4.1</td>\n",
              "      <td>48</td>\n",
              "      <td>2</td>\n",
              "    </tr>\n",
              "    <tr>\n",
              "      <th>141</th>\n",
              "      <td>1</td>\n",
              "      <td>43</td>\n",
              "      <td>1</td>\n",
              "      <td>2</td>\n",
              "      <td>2</td>\n",
              "      <td>1</td>\n",
              "      <td>2</td>\n",
              "      <td>2</td>\n",
              "      <td>2</td>\n",
              "      <td>2</td>\n",
              "      <td>1</td>\n",
              "      <td>1</td>\n",
              "      <td>1</td>\n",
              "      <td>2</td>\n",
              "      <td>1.2</td>\n",
              "      <td>100</td>\n",
              "      <td>19</td>\n",
              "      <td>3.1</td>\n",
              "      <td>42</td>\n",
              "      <td>2</td>\n",
              "    </tr>\n",
              "  </tbody>\n",
              "</table>\n",
              "<p>142 rows × 20 columns</p>\n",
              "</div>\n",
              "      <button class=\"colab-df-convert\" onclick=\"convertToInteractive('df-e7e3f8a5-cf26-4e2f-993f-96f4ad7027c0')\"\n",
              "              title=\"Convert this dataframe to an interactive table.\"\n",
              "              style=\"display:none;\">\n",
              "        \n",
              "  <svg xmlns=\"http://www.w3.org/2000/svg\" height=\"24px\"viewBox=\"0 0 24 24\"\n",
              "       width=\"24px\">\n",
              "    <path d=\"M0 0h24v24H0V0z\" fill=\"none\"/>\n",
              "    <path d=\"M18.56 5.44l.94 2.06.94-2.06 2.06-.94-2.06-.94-.94-2.06-.94 2.06-2.06.94zm-11 1L8.5 8.5l.94-2.06 2.06-.94-2.06-.94L8.5 2.5l-.94 2.06-2.06.94zm10 10l.94 2.06.94-2.06 2.06-.94-2.06-.94-.94-2.06-.94 2.06-2.06.94z\"/><path d=\"M17.41 7.96l-1.37-1.37c-.4-.4-.92-.59-1.43-.59-.52 0-1.04.2-1.43.59L10.3 9.45l-7.72 7.72c-.78.78-.78 2.05 0 2.83L4 21.41c.39.39.9.59 1.41.59.51 0 1.02-.2 1.41-.59l7.78-7.78 2.81-2.81c.8-.78.8-2.07 0-2.86zM5.41 20L4 18.59l7.72-7.72 1.47 1.35L5.41 20z\"/>\n",
              "  </svg>\n",
              "      </button>\n",
              "      \n",
              "  <style>\n",
              "    .colab-df-container {\n",
              "      display:flex;\n",
              "      flex-wrap:wrap;\n",
              "      gap: 12px;\n",
              "    }\n",
              "\n",
              "    .colab-df-convert {\n",
              "      background-color: #E8F0FE;\n",
              "      border: none;\n",
              "      border-radius: 50%;\n",
              "      cursor: pointer;\n",
              "      display: none;\n",
              "      fill: #1967D2;\n",
              "      height: 32px;\n",
              "      padding: 0 0 0 0;\n",
              "      width: 32px;\n",
              "    }\n",
              "\n",
              "    .colab-df-convert:hover {\n",
              "      background-color: #E2EBFA;\n",
              "      box-shadow: 0px 1px 2px rgba(60, 64, 67, 0.3), 0px 1px 3px 1px rgba(60, 64, 67, 0.15);\n",
              "      fill: #174EA6;\n",
              "    }\n",
              "\n",
              "    [theme=dark] .colab-df-convert {\n",
              "      background-color: #3B4455;\n",
              "      fill: #D2E3FC;\n",
              "    }\n",
              "\n",
              "    [theme=dark] .colab-df-convert:hover {\n",
              "      background-color: #434B5C;\n",
              "      box-shadow: 0px 1px 3px 1px rgba(0, 0, 0, 0.15);\n",
              "      filter: drop-shadow(0px 1px 2px rgba(0, 0, 0, 0.3));\n",
              "      fill: #FFFFFF;\n",
              "    }\n",
              "  </style>\n",
              "\n",
              "      <script>\n",
              "        const buttonEl =\n",
              "          document.querySelector('#df-e7e3f8a5-cf26-4e2f-993f-96f4ad7027c0 button.colab-df-convert');\n",
              "        buttonEl.style.display =\n",
              "          google.colab.kernel.accessAllowed ? 'block' : 'none';\n",
              "\n",
              "        async function convertToInteractive(key) {\n",
              "          const element = document.querySelector('#df-e7e3f8a5-cf26-4e2f-993f-96f4ad7027c0');\n",
              "          const dataTable =\n",
              "            await google.colab.kernel.invokeFunction('convertToInteractive',\n",
              "                                                     [key], {});\n",
              "          if (!dataTable) return;\n",
              "\n",
              "          const docLinkHtml = 'Like what you see? Visit the ' +\n",
              "            '<a target=\"_blank\" href=https://colab.research.google.com/notebooks/data_table.ipynb>data table notebook</a>'\n",
              "            + ' to learn more about interactive tables.';\n",
              "          element.innerHTML = '';\n",
              "          dataTable['output_type'] = 'display_data';\n",
              "          await google.colab.output.renderOutput(dataTable, element);\n",
              "          const docLink = document.createElement('div');\n",
              "          docLink.innerHTML = docLinkHtml;\n",
              "          element.appendChild(docLink);\n",
              "        }\n",
              "      </script>\n",
              "    </div>\n",
              "  </div>\n",
              "  "
            ]
          },
          "metadata": {},
          "execution_count": 3
        }
      ],
      "source": [
        "df"
      ]
    },
    {
      "cell_type": "code",
      "execution_count": null,
      "metadata": {
        "colab": {
          "base_uri": "https://localhost:8080/"
        },
        "id": "h3I1GJs9S_qI",
        "outputId": "3a1d5e7b-8278-484e-a30f-b68d57746f78"
      },
      "outputs": [
        {
          "output_type": "execute_result",
          "data": {
            "text/plain": [
              "(142, 20)"
            ]
          },
          "metadata": {},
          "execution_count": 4
        }
      ],
      "source": [
        "df.shape"
      ]
    },
    {
      "cell_type": "code",
      "execution_count": null,
      "metadata": {
        "colab": {
          "base_uri": "https://localhost:8080/"
        },
        "id": "Zby4ooqJS9ac",
        "outputId": "ce73f2cc-f5e2-4493-e0d6-8778ebe45b5b"
      },
      "outputs": [
        {
          "output_type": "execute_result",
          "data": {
            "text/plain": [
              "class             0\n",
              "age               0\n",
              "sex               0\n",
              "steroid           0\n",
              "antivirals        0\n",
              "fatigue           0\n",
              "malaise           0\n",
              "anorexia          0\n",
              "liver_big         0\n",
              "liver_firm        0\n",
              "spleen_palable    0\n",
              "spiders           0\n",
              "ascites           0\n",
              "varices           0\n",
              "bilirubin         0\n",
              "alk_phosphate     0\n",
              "sgot              0\n",
              "albumin           0\n",
              "protime           0\n",
              "histology         0\n",
              "dtype: int64"
            ]
          },
          "metadata": {},
          "execution_count": 5
        }
      ],
      "source": [
        "df.isnull().sum()"
      ]
    },
    {
      "cell_type": "code",
      "execution_count": null,
      "metadata": {
        "colab": {
          "base_uri": "https://localhost:8080/"
        },
        "id": "-8JJVvNuTA7p",
        "outputId": "499a0073-9eaf-4859-f7a1-ae253b50cff1"
      },
      "outputs": [
        {
          "output_type": "stream",
          "name": "stdout",
          "text": [
            "<class 'pandas.core.frame.DataFrame'>\n",
            "RangeIndex: 142 entries, 0 to 141\n",
            "Data columns (total 20 columns):\n",
            " #   Column          Non-Null Count  Dtype  \n",
            "---  ------          --------------  -----  \n",
            " 0   class           142 non-null    int64  \n",
            " 1   age             142 non-null    int64  \n",
            " 2   sex             142 non-null    int64  \n",
            " 3   steroid         142 non-null    int64  \n",
            " 4   antivirals      142 non-null    int64  \n",
            " 5   fatigue         142 non-null    int64  \n",
            " 6   malaise         142 non-null    int64  \n",
            " 7   anorexia        142 non-null    int64  \n",
            " 8   liver_big       142 non-null    int64  \n",
            " 9   liver_firm      142 non-null    int64  \n",
            " 10  spleen_palable  142 non-null    int64  \n",
            " 11  spiders         142 non-null    int64  \n",
            " 12  ascites         142 non-null    int64  \n",
            " 13  varices         142 non-null    int64  \n",
            " 14  bilirubin       142 non-null    float64\n",
            " 15  alk_phosphate   142 non-null    int64  \n",
            " 16  sgot            142 non-null    int64  \n",
            " 17  albumin         142 non-null    float64\n",
            " 18  protime         142 non-null    int64  \n",
            " 19  histology       142 non-null    int64  \n",
            "dtypes: float64(2), int64(18)\n",
            "memory usage: 22.3 KB\n"
          ]
        }
      ],
      "source": [
        "df.info()"
      ]
    },
    {
      "cell_type": "code",
      "execution_count": null,
      "metadata": {
        "colab": {
          "base_uri": "https://localhost:8080/"
        },
        "id": "dllCLkuWVd4Q",
        "outputId": "2bada0fd-7900-4a36-d648-31015800c05d"
      },
      "outputs": [
        {
          "output_type": "execute_result",
          "data": {
            "text/plain": [
              "3"
            ]
          },
          "metadata": {},
          "execution_count": 7
        }
      ],
      "source": [
        "df[\"class\"].unique().sum()"
      ]
    },
    {
      "cell_type": "code",
      "execution_count": null,
      "metadata": {
        "colab": {
          "base_uri": "https://localhost:8080/"
        },
        "id": "Q0jVkVHQVxDC",
        "outputId": "10751f87-9a30-4d05-d122-703357484098"
      },
      "outputs": [
        {
          "output_type": "execute_result",
          "data": {
            "text/plain": [
              "array([2, 1])"
            ]
          },
          "metadata": {},
          "execution_count": 8
        }
      ],
      "source": [
        "df[\"sex\"].unique()"
      ]
    },
    {
      "cell_type": "code",
      "execution_count": null,
      "metadata": {
        "colab": {
          "base_uri": "https://localhost:8080/"
        },
        "id": "QcUIZFaZZ_Jj",
        "outputId": "b382a790-95d8-42b6-f38c-950f3e04eaee"
      },
      "outputs": [
        {
          "output_type": "execute_result",
          "data": {
            "text/plain": [
              "Index(['class', 'age', 'sex', 'steroid', 'antivirals', 'fatigue', 'malaise',\n",
              "       'anorexia', 'liver_big', 'liver_firm', 'spleen_palable', 'spiders',\n",
              "       'ascites', 'varices', 'bilirubin', 'alk_phosphate', 'sgot', 'albumin',\n",
              "       'protime', 'histology'],\n",
              "      dtype='object')"
            ]
          },
          "metadata": {},
          "execution_count": 9
        }
      ],
      "source": [
        "df.columns"
      ]
    },
    {
      "cell_type": "code",
      "execution_count": null,
      "metadata": {
        "id": "VsONnACHZ4eK"
      },
      "outputs": [],
      "source": [
        "df_0 = df.drop(['class', 'age', 'sex', 'steroid', 'antivirals', 'fatigue', 'malaise',\n",
        "       'anorexia', 'liver_big', 'liver_firm', 'spleen_palable', 'spiders',\n",
        "       'ascites', 'varices','histology'], axis = 1)"
      ]
    },
    {
      "cell_type": "code",
      "execution_count": null,
      "metadata": {
        "id": "sB8Mo7ZdXEDS"
      },
      "outputs": [],
      "source": [
        "df_1 = df.drop([\"bilirubin\",\"alk_phosphate\",\"sgot\",\"albumin\",\"protime\"],axis = 1)"
      ]
    },
    {
      "cell_type": "code",
      "execution_count": null,
      "metadata": {
        "colab": {
          "base_uri": "https://localhost:8080/"
        },
        "id": "mgfIOMjSXzFx",
        "outputId": "b4bb7f24-23b2-48b5-8337-5b41ab289221"
      },
      "outputs": [
        {
          "output_type": "execute_result",
          "data": {
            "text/plain": [
              "     class  age  sex  steroid  antivirals  fatigue  malaise  anorexia  \\\n",
              "0        2   30    2        1           2        2        2         2   \n",
              "1        2   50    1        1           2        1        2         2   \n",
              "2        2   78    1        2           2        1        2         2   \n",
              "3        2   34    1        2           2        2        2         2   \n",
              "4        2   34    1        2           2        2        2         2   \n",
              "..     ...  ...  ...      ...         ...      ...      ...       ...   \n",
              "137      1   46    1        2           2        1        1         1   \n",
              "138      2   44    1        2           2        1        2         2   \n",
              "139      2   61    1        1           2        1        1         2   \n",
              "140      2   53    2        1           2        1        2         2   \n",
              "141      1   43    1        2           2        1        2         2   \n",
              "\n",
              "     liver_big  liver_firm  spleen_palable  spiders  ascites  varices  \\\n",
              "0            1           2               2        2        2        2   \n",
              "1            1           2               2        2        2        2   \n",
              "2            2           2               2        2        2        2   \n",
              "3            2           2               2        2        2        2   \n",
              "4            2           2               2        2        2        2   \n",
              "..         ...         ...             ...      ...      ...      ...   \n",
              "137          2           1               2        1        1        1   \n",
              "138          2           1               2        2        2        2   \n",
              "139          1           2               2        1        2        2   \n",
              "140          2           2               1        1        2        1   \n",
              "141          2           2               1        1        1        2   \n",
              "\n",
              "     histology  \n",
              "0            1  \n",
              "1            1  \n",
              "2            1  \n",
              "3            1  \n",
              "4            1  \n",
              "..         ...  \n",
              "137          2  \n",
              "138          2  \n",
              "139          2  \n",
              "140          2  \n",
              "141          2  \n",
              "\n",
              "[142 rows x 15 columns]"
            ],
            "text/html": [
              "\n",
              "  <div id=\"df-64bf0a36-6dd6-4a9b-98e6-832c23389d21\">\n",
              "    <div class=\"colab-df-container\">\n",
              "      <div>\n",
              "<style scoped>\n",
              "    .dataframe tbody tr th:only-of-type {\n",
              "        vertical-align: middle;\n",
              "    }\n",
              "\n",
              "    .dataframe tbody tr th {\n",
              "        vertical-align: top;\n",
              "    }\n",
              "\n",
              "    .dataframe thead th {\n",
              "        text-align: right;\n",
              "    }\n",
              "</style>\n",
              "<table border=\"1\" class=\"dataframe\">\n",
              "  <thead>\n",
              "    <tr style=\"text-align: right;\">\n",
              "      <th></th>\n",
              "      <th>class</th>\n",
              "      <th>age</th>\n",
              "      <th>sex</th>\n",
              "      <th>steroid</th>\n",
              "      <th>antivirals</th>\n",
              "      <th>fatigue</th>\n",
              "      <th>malaise</th>\n",
              "      <th>anorexia</th>\n",
              "      <th>liver_big</th>\n",
              "      <th>liver_firm</th>\n",
              "      <th>spleen_palable</th>\n",
              "      <th>spiders</th>\n",
              "      <th>ascites</th>\n",
              "      <th>varices</th>\n",
              "      <th>histology</th>\n",
              "    </tr>\n",
              "  </thead>\n",
              "  <tbody>\n",
              "    <tr>\n",
              "      <th>0</th>\n",
              "      <td>2</td>\n",
              "      <td>30</td>\n",
              "      <td>2</td>\n",
              "      <td>1</td>\n",
              "      <td>2</td>\n",
              "      <td>2</td>\n",
              "      <td>2</td>\n",
              "      <td>2</td>\n",
              "      <td>1</td>\n",
              "      <td>2</td>\n",
              "      <td>2</td>\n",
              "      <td>2</td>\n",
              "      <td>2</td>\n",
              "      <td>2</td>\n",
              "      <td>1</td>\n",
              "    </tr>\n",
              "    <tr>\n",
              "      <th>1</th>\n",
              "      <td>2</td>\n",
              "      <td>50</td>\n",
              "      <td>1</td>\n",
              "      <td>1</td>\n",
              "      <td>2</td>\n",
              "      <td>1</td>\n",
              "      <td>2</td>\n",
              "      <td>2</td>\n",
              "      <td>1</td>\n",
              "      <td>2</td>\n",
              "      <td>2</td>\n",
              "      <td>2</td>\n",
              "      <td>2</td>\n",
              "      <td>2</td>\n",
              "      <td>1</td>\n",
              "    </tr>\n",
              "    <tr>\n",
              "      <th>2</th>\n",
              "      <td>2</td>\n",
              "      <td>78</td>\n",
              "      <td>1</td>\n",
              "      <td>2</td>\n",
              "      <td>2</td>\n",
              "      <td>1</td>\n",
              "      <td>2</td>\n",
              "      <td>2</td>\n",
              "      <td>2</td>\n",
              "      <td>2</td>\n",
              "      <td>2</td>\n",
              "      <td>2</td>\n",
              "      <td>2</td>\n",
              "      <td>2</td>\n",
              "      <td>1</td>\n",
              "    </tr>\n",
              "    <tr>\n",
              "      <th>3</th>\n",
              "      <td>2</td>\n",
              "      <td>34</td>\n",
              "      <td>1</td>\n",
              "      <td>2</td>\n",
              "      <td>2</td>\n",
              "      <td>2</td>\n",
              "      <td>2</td>\n",
              "      <td>2</td>\n",
              "      <td>2</td>\n",
              "      <td>2</td>\n",
              "      <td>2</td>\n",
              "      <td>2</td>\n",
              "      <td>2</td>\n",
              "      <td>2</td>\n",
              "      <td>1</td>\n",
              "    </tr>\n",
              "    <tr>\n",
              "      <th>4</th>\n",
              "      <td>2</td>\n",
              "      <td>34</td>\n",
              "      <td>1</td>\n",
              "      <td>2</td>\n",
              "      <td>2</td>\n",
              "      <td>2</td>\n",
              "      <td>2</td>\n",
              "      <td>2</td>\n",
              "      <td>2</td>\n",
              "      <td>2</td>\n",
              "      <td>2</td>\n",
              "      <td>2</td>\n",
              "      <td>2</td>\n",
              "      <td>2</td>\n",
              "      <td>1</td>\n",
              "    </tr>\n",
              "    <tr>\n",
              "      <th>...</th>\n",
              "      <td>...</td>\n",
              "      <td>...</td>\n",
              "      <td>...</td>\n",
              "      <td>...</td>\n",
              "      <td>...</td>\n",
              "      <td>...</td>\n",
              "      <td>...</td>\n",
              "      <td>...</td>\n",
              "      <td>...</td>\n",
              "      <td>...</td>\n",
              "      <td>...</td>\n",
              "      <td>...</td>\n",
              "      <td>...</td>\n",
              "      <td>...</td>\n",
              "      <td>...</td>\n",
              "    </tr>\n",
              "    <tr>\n",
              "      <th>137</th>\n",
              "      <td>1</td>\n",
              "      <td>46</td>\n",
              "      <td>1</td>\n",
              "      <td>2</td>\n",
              "      <td>2</td>\n",
              "      <td>1</td>\n",
              "      <td>1</td>\n",
              "      <td>1</td>\n",
              "      <td>2</td>\n",
              "      <td>1</td>\n",
              "      <td>2</td>\n",
              "      <td>1</td>\n",
              "      <td>1</td>\n",
              "      <td>1</td>\n",
              "      <td>2</td>\n",
              "    </tr>\n",
              "    <tr>\n",
              "      <th>138</th>\n",
              "      <td>2</td>\n",
              "      <td>44</td>\n",
              "      <td>1</td>\n",
              "      <td>2</td>\n",
              "      <td>2</td>\n",
              "      <td>1</td>\n",
              "      <td>2</td>\n",
              "      <td>2</td>\n",
              "      <td>2</td>\n",
              "      <td>1</td>\n",
              "      <td>2</td>\n",
              "      <td>2</td>\n",
              "      <td>2</td>\n",
              "      <td>2</td>\n",
              "      <td>2</td>\n",
              "    </tr>\n",
              "    <tr>\n",
              "      <th>139</th>\n",
              "      <td>2</td>\n",
              "      <td>61</td>\n",
              "      <td>1</td>\n",
              "      <td>1</td>\n",
              "      <td>2</td>\n",
              "      <td>1</td>\n",
              "      <td>1</td>\n",
              "      <td>2</td>\n",
              "      <td>1</td>\n",
              "      <td>2</td>\n",
              "      <td>2</td>\n",
              "      <td>1</td>\n",
              "      <td>2</td>\n",
              "      <td>2</td>\n",
              "      <td>2</td>\n",
              "    </tr>\n",
              "    <tr>\n",
              "      <th>140</th>\n",
              "      <td>2</td>\n",
              "      <td>53</td>\n",
              "      <td>2</td>\n",
              "      <td>1</td>\n",
              "      <td>2</td>\n",
              "      <td>1</td>\n",
              "      <td>2</td>\n",
              "      <td>2</td>\n",
              "      <td>2</td>\n",
              "      <td>2</td>\n",
              "      <td>1</td>\n",
              "      <td>1</td>\n",
              "      <td>2</td>\n",
              "      <td>1</td>\n",
              "      <td>2</td>\n",
              "    </tr>\n",
              "    <tr>\n",
              "      <th>141</th>\n",
              "      <td>1</td>\n",
              "      <td>43</td>\n",
              "      <td>1</td>\n",
              "      <td>2</td>\n",
              "      <td>2</td>\n",
              "      <td>1</td>\n",
              "      <td>2</td>\n",
              "      <td>2</td>\n",
              "      <td>2</td>\n",
              "      <td>2</td>\n",
              "      <td>1</td>\n",
              "      <td>1</td>\n",
              "      <td>1</td>\n",
              "      <td>2</td>\n",
              "      <td>2</td>\n",
              "    </tr>\n",
              "  </tbody>\n",
              "</table>\n",
              "<p>142 rows × 15 columns</p>\n",
              "</div>\n",
              "      <button class=\"colab-df-convert\" onclick=\"convertToInteractive('df-64bf0a36-6dd6-4a9b-98e6-832c23389d21')\"\n",
              "              title=\"Convert this dataframe to an interactive table.\"\n",
              "              style=\"display:none;\">\n",
              "        \n",
              "  <svg xmlns=\"http://www.w3.org/2000/svg\" height=\"24px\"viewBox=\"0 0 24 24\"\n",
              "       width=\"24px\">\n",
              "    <path d=\"M0 0h24v24H0V0z\" fill=\"none\"/>\n",
              "    <path d=\"M18.56 5.44l.94 2.06.94-2.06 2.06-.94-2.06-.94-.94-2.06-.94 2.06-2.06.94zm-11 1L8.5 8.5l.94-2.06 2.06-.94-2.06-.94L8.5 2.5l-.94 2.06-2.06.94zm10 10l.94 2.06.94-2.06 2.06-.94-2.06-.94-.94-2.06-.94 2.06-2.06.94z\"/><path d=\"M17.41 7.96l-1.37-1.37c-.4-.4-.92-.59-1.43-.59-.52 0-1.04.2-1.43.59L10.3 9.45l-7.72 7.72c-.78.78-.78 2.05 0 2.83L4 21.41c.39.39.9.59 1.41.59.51 0 1.02-.2 1.41-.59l7.78-7.78 2.81-2.81c.8-.78.8-2.07 0-2.86zM5.41 20L4 18.59l7.72-7.72 1.47 1.35L5.41 20z\"/>\n",
              "  </svg>\n",
              "      </button>\n",
              "      \n",
              "  <style>\n",
              "    .colab-df-container {\n",
              "      display:flex;\n",
              "      flex-wrap:wrap;\n",
              "      gap: 12px;\n",
              "    }\n",
              "\n",
              "    .colab-df-convert {\n",
              "      background-color: #E8F0FE;\n",
              "      border: none;\n",
              "      border-radius: 50%;\n",
              "      cursor: pointer;\n",
              "      display: none;\n",
              "      fill: #1967D2;\n",
              "      height: 32px;\n",
              "      padding: 0 0 0 0;\n",
              "      width: 32px;\n",
              "    }\n",
              "\n",
              "    .colab-df-convert:hover {\n",
              "      background-color: #E2EBFA;\n",
              "      box-shadow: 0px 1px 2px rgba(60, 64, 67, 0.3), 0px 1px 3px 1px rgba(60, 64, 67, 0.15);\n",
              "      fill: #174EA6;\n",
              "    }\n",
              "\n",
              "    [theme=dark] .colab-df-convert {\n",
              "      background-color: #3B4455;\n",
              "      fill: #D2E3FC;\n",
              "    }\n",
              "\n",
              "    [theme=dark] .colab-df-convert:hover {\n",
              "      background-color: #434B5C;\n",
              "      box-shadow: 0px 1px 3px 1px rgba(0, 0, 0, 0.15);\n",
              "      filter: drop-shadow(0px 1px 2px rgba(0, 0, 0, 0.3));\n",
              "      fill: #FFFFFF;\n",
              "    }\n",
              "  </style>\n",
              "\n",
              "      <script>\n",
              "        const buttonEl =\n",
              "          document.querySelector('#df-64bf0a36-6dd6-4a9b-98e6-832c23389d21 button.colab-df-convert');\n",
              "        buttonEl.style.display =\n",
              "          google.colab.kernel.accessAllowed ? 'block' : 'none';\n",
              "\n",
              "        async function convertToInteractive(key) {\n",
              "          const element = document.querySelector('#df-64bf0a36-6dd6-4a9b-98e6-832c23389d21');\n",
              "          const dataTable =\n",
              "            await google.colab.kernel.invokeFunction('convertToInteractive',\n",
              "                                                     [key], {});\n",
              "          if (!dataTable) return;\n",
              "\n",
              "          const docLinkHtml = 'Like what you see? Visit the ' +\n",
              "            '<a target=\"_blank\" href=https://colab.research.google.com/notebooks/data_table.ipynb>data table notebook</a>'\n",
              "            + ' to learn more about interactive tables.';\n",
              "          element.innerHTML = '';\n",
              "          dataTable['output_type'] = 'display_data';\n",
              "          await google.colab.output.renderOutput(dataTable, element);\n",
              "          const docLink = document.createElement('div');\n",
              "          docLink.innerHTML = docLinkHtml;\n",
              "          element.appendChild(docLink);\n",
              "        }\n",
              "      </script>\n",
              "    </div>\n",
              "  </div>\n",
              "  "
            ]
          },
          "metadata": {},
          "execution_count": 12
        }
      ],
      "source": [
        "df_1"
      ]
    },
    {
      "cell_type": "code",
      "execution_count": null,
      "metadata": {
        "id": "IRuDuryjTvBA"
      },
      "outputs": [],
      "source": [
        "df_2 = df_1.replace({1:0,2:1})"
      ]
    },
    {
      "cell_type": "code",
      "execution_count": null,
      "metadata": {
        "colab": {
          "base_uri": "https://localhost:8080/"
        },
        "id": "fZrvE40wcAAj",
        "outputId": "ab76e70c-39de-4036-d38d-38ced441dd8e"
      },
      "outputs": [
        {
          "output_type": "execute_result",
          "data": {
            "text/plain": [
              "     class  age  sex  steroid  antivirals  fatigue  malaise  anorexia  \\\n",
              "0        1   30    1        0           1        1        1         1   \n",
              "1        1   50    0        0           1        0        1         1   \n",
              "2        1   78    0        1           1        0        1         1   \n",
              "3        1   34    0        1           1        1        1         1   \n",
              "4        1   34    0        1           1        1        1         1   \n",
              "..     ...  ...  ...      ...         ...      ...      ...       ...   \n",
              "137      0   46    0        1           1        0        0         0   \n",
              "138      1   44    0        1           1        0        1         1   \n",
              "139      1   61    0        0           1        0        0         1   \n",
              "140      1   53    1        0           1        0        1         1   \n",
              "141      0   43    0        1           1        0        1         1   \n",
              "\n",
              "     liver_big  liver_firm  spleen_palable  spiders  ascites  varices  \\\n",
              "0            0           1               1        1        1        1   \n",
              "1            0           1               1        1        1        1   \n",
              "2            1           1               1        1        1        1   \n",
              "3            1           1               1        1        1        1   \n",
              "4            1           1               1        1        1        1   \n",
              "..         ...         ...             ...      ...      ...      ...   \n",
              "137          1           0               1        0        0        0   \n",
              "138          1           0               1        1        1        1   \n",
              "139          0           1               1        0        1        1   \n",
              "140          1           1               0        0        1        0   \n",
              "141          1           1               0        0        0        1   \n",
              "\n",
              "     histology  \n",
              "0            0  \n",
              "1            0  \n",
              "2            0  \n",
              "3            0  \n",
              "4            0  \n",
              "..         ...  \n",
              "137          1  \n",
              "138          1  \n",
              "139          1  \n",
              "140          1  \n",
              "141          1  \n",
              "\n",
              "[142 rows x 15 columns]"
            ],
            "text/html": [
              "\n",
              "  <div id=\"df-b39b1765-8f35-4bfc-9692-a53c92338905\">\n",
              "    <div class=\"colab-df-container\">\n",
              "      <div>\n",
              "<style scoped>\n",
              "    .dataframe tbody tr th:only-of-type {\n",
              "        vertical-align: middle;\n",
              "    }\n",
              "\n",
              "    .dataframe tbody tr th {\n",
              "        vertical-align: top;\n",
              "    }\n",
              "\n",
              "    .dataframe thead th {\n",
              "        text-align: right;\n",
              "    }\n",
              "</style>\n",
              "<table border=\"1\" class=\"dataframe\">\n",
              "  <thead>\n",
              "    <tr style=\"text-align: right;\">\n",
              "      <th></th>\n",
              "      <th>class</th>\n",
              "      <th>age</th>\n",
              "      <th>sex</th>\n",
              "      <th>steroid</th>\n",
              "      <th>antivirals</th>\n",
              "      <th>fatigue</th>\n",
              "      <th>malaise</th>\n",
              "      <th>anorexia</th>\n",
              "      <th>liver_big</th>\n",
              "      <th>liver_firm</th>\n",
              "      <th>spleen_palable</th>\n",
              "      <th>spiders</th>\n",
              "      <th>ascites</th>\n",
              "      <th>varices</th>\n",
              "      <th>histology</th>\n",
              "    </tr>\n",
              "  </thead>\n",
              "  <tbody>\n",
              "    <tr>\n",
              "      <th>0</th>\n",
              "      <td>1</td>\n",
              "      <td>30</td>\n",
              "      <td>1</td>\n",
              "      <td>0</td>\n",
              "      <td>1</td>\n",
              "      <td>1</td>\n",
              "      <td>1</td>\n",
              "      <td>1</td>\n",
              "      <td>0</td>\n",
              "      <td>1</td>\n",
              "      <td>1</td>\n",
              "      <td>1</td>\n",
              "      <td>1</td>\n",
              "      <td>1</td>\n",
              "      <td>0</td>\n",
              "    </tr>\n",
              "    <tr>\n",
              "      <th>1</th>\n",
              "      <td>1</td>\n",
              "      <td>50</td>\n",
              "      <td>0</td>\n",
              "      <td>0</td>\n",
              "      <td>1</td>\n",
              "      <td>0</td>\n",
              "      <td>1</td>\n",
              "      <td>1</td>\n",
              "      <td>0</td>\n",
              "      <td>1</td>\n",
              "      <td>1</td>\n",
              "      <td>1</td>\n",
              "      <td>1</td>\n",
              "      <td>1</td>\n",
              "      <td>0</td>\n",
              "    </tr>\n",
              "    <tr>\n",
              "      <th>2</th>\n",
              "      <td>1</td>\n",
              "      <td>78</td>\n",
              "      <td>0</td>\n",
              "      <td>1</td>\n",
              "      <td>1</td>\n",
              "      <td>0</td>\n",
              "      <td>1</td>\n",
              "      <td>1</td>\n",
              "      <td>1</td>\n",
              "      <td>1</td>\n",
              "      <td>1</td>\n",
              "      <td>1</td>\n",
              "      <td>1</td>\n",
              "      <td>1</td>\n",
              "      <td>0</td>\n",
              "    </tr>\n",
              "    <tr>\n",
              "      <th>3</th>\n",
              "      <td>1</td>\n",
              "      <td>34</td>\n",
              "      <td>0</td>\n",
              "      <td>1</td>\n",
              "      <td>1</td>\n",
              "      <td>1</td>\n",
              "      <td>1</td>\n",
              "      <td>1</td>\n",
              "      <td>1</td>\n",
              "      <td>1</td>\n",
              "      <td>1</td>\n",
              "      <td>1</td>\n",
              "      <td>1</td>\n",
              "      <td>1</td>\n",
              "      <td>0</td>\n",
              "    </tr>\n",
              "    <tr>\n",
              "      <th>4</th>\n",
              "      <td>1</td>\n",
              "      <td>34</td>\n",
              "      <td>0</td>\n",
              "      <td>1</td>\n",
              "      <td>1</td>\n",
              "      <td>1</td>\n",
              "      <td>1</td>\n",
              "      <td>1</td>\n",
              "      <td>1</td>\n",
              "      <td>1</td>\n",
              "      <td>1</td>\n",
              "      <td>1</td>\n",
              "      <td>1</td>\n",
              "      <td>1</td>\n",
              "      <td>0</td>\n",
              "    </tr>\n",
              "    <tr>\n",
              "      <th>...</th>\n",
              "      <td>...</td>\n",
              "      <td>...</td>\n",
              "      <td>...</td>\n",
              "      <td>...</td>\n",
              "      <td>...</td>\n",
              "      <td>...</td>\n",
              "      <td>...</td>\n",
              "      <td>...</td>\n",
              "      <td>...</td>\n",
              "      <td>...</td>\n",
              "      <td>...</td>\n",
              "      <td>...</td>\n",
              "      <td>...</td>\n",
              "      <td>...</td>\n",
              "      <td>...</td>\n",
              "    </tr>\n",
              "    <tr>\n",
              "      <th>137</th>\n",
              "      <td>0</td>\n",
              "      <td>46</td>\n",
              "      <td>0</td>\n",
              "      <td>1</td>\n",
              "      <td>1</td>\n",
              "      <td>0</td>\n",
              "      <td>0</td>\n",
              "      <td>0</td>\n",
              "      <td>1</td>\n",
              "      <td>0</td>\n",
              "      <td>1</td>\n",
              "      <td>0</td>\n",
              "      <td>0</td>\n",
              "      <td>0</td>\n",
              "      <td>1</td>\n",
              "    </tr>\n",
              "    <tr>\n",
              "      <th>138</th>\n",
              "      <td>1</td>\n",
              "      <td>44</td>\n",
              "      <td>0</td>\n",
              "      <td>1</td>\n",
              "      <td>1</td>\n",
              "      <td>0</td>\n",
              "      <td>1</td>\n",
              "      <td>1</td>\n",
              "      <td>1</td>\n",
              "      <td>0</td>\n",
              "      <td>1</td>\n",
              "      <td>1</td>\n",
              "      <td>1</td>\n",
              "      <td>1</td>\n",
              "      <td>1</td>\n",
              "    </tr>\n",
              "    <tr>\n",
              "      <th>139</th>\n",
              "      <td>1</td>\n",
              "      <td>61</td>\n",
              "      <td>0</td>\n",
              "      <td>0</td>\n",
              "      <td>1</td>\n",
              "      <td>0</td>\n",
              "      <td>0</td>\n",
              "      <td>1</td>\n",
              "      <td>0</td>\n",
              "      <td>1</td>\n",
              "      <td>1</td>\n",
              "      <td>0</td>\n",
              "      <td>1</td>\n",
              "      <td>1</td>\n",
              "      <td>1</td>\n",
              "    </tr>\n",
              "    <tr>\n",
              "      <th>140</th>\n",
              "      <td>1</td>\n",
              "      <td>53</td>\n",
              "      <td>1</td>\n",
              "      <td>0</td>\n",
              "      <td>1</td>\n",
              "      <td>0</td>\n",
              "      <td>1</td>\n",
              "      <td>1</td>\n",
              "      <td>1</td>\n",
              "      <td>1</td>\n",
              "      <td>0</td>\n",
              "      <td>0</td>\n",
              "      <td>1</td>\n",
              "      <td>0</td>\n",
              "      <td>1</td>\n",
              "    </tr>\n",
              "    <tr>\n",
              "      <th>141</th>\n",
              "      <td>0</td>\n",
              "      <td>43</td>\n",
              "      <td>0</td>\n",
              "      <td>1</td>\n",
              "      <td>1</td>\n",
              "      <td>0</td>\n",
              "      <td>1</td>\n",
              "      <td>1</td>\n",
              "      <td>1</td>\n",
              "      <td>1</td>\n",
              "      <td>0</td>\n",
              "      <td>0</td>\n",
              "      <td>0</td>\n",
              "      <td>1</td>\n",
              "      <td>1</td>\n",
              "    </tr>\n",
              "  </tbody>\n",
              "</table>\n",
              "<p>142 rows × 15 columns</p>\n",
              "</div>\n",
              "      <button class=\"colab-df-convert\" onclick=\"convertToInteractive('df-b39b1765-8f35-4bfc-9692-a53c92338905')\"\n",
              "              title=\"Convert this dataframe to an interactive table.\"\n",
              "              style=\"display:none;\">\n",
              "        \n",
              "  <svg xmlns=\"http://www.w3.org/2000/svg\" height=\"24px\"viewBox=\"0 0 24 24\"\n",
              "       width=\"24px\">\n",
              "    <path d=\"M0 0h24v24H0V0z\" fill=\"none\"/>\n",
              "    <path d=\"M18.56 5.44l.94 2.06.94-2.06 2.06-.94-2.06-.94-.94-2.06-.94 2.06-2.06.94zm-11 1L8.5 8.5l.94-2.06 2.06-.94-2.06-.94L8.5 2.5l-.94 2.06-2.06.94zm10 10l.94 2.06.94-2.06 2.06-.94-2.06-.94-.94-2.06-.94 2.06-2.06.94z\"/><path d=\"M17.41 7.96l-1.37-1.37c-.4-.4-.92-.59-1.43-.59-.52 0-1.04.2-1.43.59L10.3 9.45l-7.72 7.72c-.78.78-.78 2.05 0 2.83L4 21.41c.39.39.9.59 1.41.59.51 0 1.02-.2 1.41-.59l7.78-7.78 2.81-2.81c.8-.78.8-2.07 0-2.86zM5.41 20L4 18.59l7.72-7.72 1.47 1.35L5.41 20z\"/>\n",
              "  </svg>\n",
              "      </button>\n",
              "      \n",
              "  <style>\n",
              "    .colab-df-container {\n",
              "      display:flex;\n",
              "      flex-wrap:wrap;\n",
              "      gap: 12px;\n",
              "    }\n",
              "\n",
              "    .colab-df-convert {\n",
              "      background-color: #E8F0FE;\n",
              "      border: none;\n",
              "      border-radius: 50%;\n",
              "      cursor: pointer;\n",
              "      display: none;\n",
              "      fill: #1967D2;\n",
              "      height: 32px;\n",
              "      padding: 0 0 0 0;\n",
              "      width: 32px;\n",
              "    }\n",
              "\n",
              "    .colab-df-convert:hover {\n",
              "      background-color: #E2EBFA;\n",
              "      box-shadow: 0px 1px 2px rgba(60, 64, 67, 0.3), 0px 1px 3px 1px rgba(60, 64, 67, 0.15);\n",
              "      fill: #174EA6;\n",
              "    }\n",
              "\n",
              "    [theme=dark] .colab-df-convert {\n",
              "      background-color: #3B4455;\n",
              "      fill: #D2E3FC;\n",
              "    }\n",
              "\n",
              "    [theme=dark] .colab-df-convert:hover {\n",
              "      background-color: #434B5C;\n",
              "      box-shadow: 0px 1px 3px 1px rgba(0, 0, 0, 0.15);\n",
              "      filter: drop-shadow(0px 1px 2px rgba(0, 0, 0, 0.3));\n",
              "      fill: #FFFFFF;\n",
              "    }\n",
              "  </style>\n",
              "\n",
              "      <script>\n",
              "        const buttonEl =\n",
              "          document.querySelector('#df-b39b1765-8f35-4bfc-9692-a53c92338905 button.colab-df-convert');\n",
              "        buttonEl.style.display =\n",
              "          google.colab.kernel.accessAllowed ? 'block' : 'none';\n",
              "\n",
              "        async function convertToInteractive(key) {\n",
              "          const element = document.querySelector('#df-b39b1765-8f35-4bfc-9692-a53c92338905');\n",
              "          const dataTable =\n",
              "            await google.colab.kernel.invokeFunction('convertToInteractive',\n",
              "                                                     [key], {});\n",
              "          if (!dataTable) return;\n",
              "\n",
              "          const docLinkHtml = 'Like what you see? Visit the ' +\n",
              "            '<a target=\"_blank\" href=https://colab.research.google.com/notebooks/data_table.ipynb>data table notebook</a>'\n",
              "            + ' to learn more about interactive tables.';\n",
              "          element.innerHTML = '';\n",
              "          dataTable['output_type'] = 'display_data';\n",
              "          await google.colab.output.renderOutput(dataTable, element);\n",
              "          const docLink = document.createElement('div');\n",
              "          docLink.innerHTML = docLinkHtml;\n",
              "          element.appendChild(docLink);\n",
              "        }\n",
              "      </script>\n",
              "    </div>\n",
              "  </div>\n",
              "  "
            ]
          },
          "metadata": {},
          "execution_count": 14
        }
      ],
      "source": [
        "df_2"
      ]
    },
    {
      "cell_type": "code",
      "execution_count": null,
      "metadata": {
        "id": "Faxku_MFVby5"
      },
      "outputs": [],
      "source": [
        "df_3 = df_1.append(df_0,ignore_index = True)"
      ]
    },
    {
      "cell_type": "code",
      "execution_count": null,
      "metadata": {
        "id": "-x5LFep6bwzL"
      },
      "outputs": [],
      "source": [
        "frames =[df_2,df_0]"
      ]
    },
    {
      "cell_type": "code",
      "execution_count": null,
      "metadata": {
        "id": "tkz6BVCdcBHU"
      },
      "outputs": [],
      "source": [
        "df_4 =pd.concat(frames, axis =1, ignore_index = False)"
      ]
    },
    {
      "cell_type": "code",
      "execution_count": null,
      "metadata": {
        "colab": {
          "base_uri": "https://localhost:8080/"
        },
        "id": "uKU6zMPyatDq",
        "outputId": "f0f8498a-285a-40d2-a68f-25e7a3cacea7"
      },
      "outputs": [
        {
          "output_type": "execute_result",
          "data": {
            "text/plain": [
              "     class  age  sex  steroid  antivirals  fatigue  malaise  anorexia  \\\n",
              "0        1   30    1        0           1        1        1         1   \n",
              "1        1   50    0        0           1        0        1         1   \n",
              "2        1   78    0        1           1        0        1         1   \n",
              "3        1   34    0        1           1        1        1         1   \n",
              "4        1   34    0        1           1        1        1         1   \n",
              "..     ...  ...  ...      ...         ...      ...      ...       ...   \n",
              "137      0   46    0        1           1        0        0         0   \n",
              "138      1   44    0        1           1        0        1         1   \n",
              "139      1   61    0        0           1        0        0         1   \n",
              "140      1   53    1        0           1        0        1         1   \n",
              "141      0   43    0        1           1        0        1         1   \n",
              "\n",
              "     liver_big  liver_firm  spleen_palable  spiders  ascites  varices  \\\n",
              "0            0           1               1        1        1        1   \n",
              "1            0           1               1        1        1        1   \n",
              "2            1           1               1        1        1        1   \n",
              "3            1           1               1        1        1        1   \n",
              "4            1           1               1        1        1        1   \n",
              "..         ...         ...             ...      ...      ...      ...   \n",
              "137          1           0               1        0        0        0   \n",
              "138          1           0               1        1        1        1   \n",
              "139          0           1               1        0        1        1   \n",
              "140          1           1               0        0        1        0   \n",
              "141          1           1               0        0        0        1   \n",
              "\n",
              "     histology  bilirubin  alk_phosphate  sgot  albumin  protime  \n",
              "0            0        1.0             85    18      4.0       61  \n",
              "1            0        0.9            135    42      3.5       61  \n",
              "2            0        0.7             96    32      4.0       61  \n",
              "3            0        1.0            105   200      4.0       61  \n",
              "4            0        0.9             95    28      4.0       75  \n",
              "..         ...        ...            ...   ...      ...      ...  \n",
              "137          1        7.6            105   242      3.3       50  \n",
              "138          1        0.9            126   142      4.3       61  \n",
              "139          1        0.8             75    20      4.1       61  \n",
              "140          1        1.5             81    19      4.1       48  \n",
              "141          1        1.2            100    19      3.1       42  \n",
              "\n",
              "[142 rows x 20 columns]"
            ],
            "text/html": [
              "\n",
              "  <div id=\"df-98721911-47e5-460d-a35f-3032e881d286\">\n",
              "    <div class=\"colab-df-container\">\n",
              "      <div>\n",
              "<style scoped>\n",
              "    .dataframe tbody tr th:only-of-type {\n",
              "        vertical-align: middle;\n",
              "    }\n",
              "\n",
              "    .dataframe tbody tr th {\n",
              "        vertical-align: top;\n",
              "    }\n",
              "\n",
              "    .dataframe thead th {\n",
              "        text-align: right;\n",
              "    }\n",
              "</style>\n",
              "<table border=\"1\" class=\"dataframe\">\n",
              "  <thead>\n",
              "    <tr style=\"text-align: right;\">\n",
              "      <th></th>\n",
              "      <th>class</th>\n",
              "      <th>age</th>\n",
              "      <th>sex</th>\n",
              "      <th>steroid</th>\n",
              "      <th>antivirals</th>\n",
              "      <th>fatigue</th>\n",
              "      <th>malaise</th>\n",
              "      <th>anorexia</th>\n",
              "      <th>liver_big</th>\n",
              "      <th>liver_firm</th>\n",
              "      <th>spleen_palable</th>\n",
              "      <th>spiders</th>\n",
              "      <th>ascites</th>\n",
              "      <th>varices</th>\n",
              "      <th>histology</th>\n",
              "      <th>bilirubin</th>\n",
              "      <th>alk_phosphate</th>\n",
              "      <th>sgot</th>\n",
              "      <th>albumin</th>\n",
              "      <th>protime</th>\n",
              "    </tr>\n",
              "  </thead>\n",
              "  <tbody>\n",
              "    <tr>\n",
              "      <th>0</th>\n",
              "      <td>1</td>\n",
              "      <td>30</td>\n",
              "      <td>1</td>\n",
              "      <td>0</td>\n",
              "      <td>1</td>\n",
              "      <td>1</td>\n",
              "      <td>1</td>\n",
              "      <td>1</td>\n",
              "      <td>0</td>\n",
              "      <td>1</td>\n",
              "      <td>1</td>\n",
              "      <td>1</td>\n",
              "      <td>1</td>\n",
              "      <td>1</td>\n",
              "      <td>0</td>\n",
              "      <td>1.0</td>\n",
              "      <td>85</td>\n",
              "      <td>18</td>\n",
              "      <td>4.0</td>\n",
              "      <td>61</td>\n",
              "    </tr>\n",
              "    <tr>\n",
              "      <th>1</th>\n",
              "      <td>1</td>\n",
              "      <td>50</td>\n",
              "      <td>0</td>\n",
              "      <td>0</td>\n",
              "      <td>1</td>\n",
              "      <td>0</td>\n",
              "      <td>1</td>\n",
              "      <td>1</td>\n",
              "      <td>0</td>\n",
              "      <td>1</td>\n",
              "      <td>1</td>\n",
              "      <td>1</td>\n",
              "      <td>1</td>\n",
              "      <td>1</td>\n",
              "      <td>0</td>\n",
              "      <td>0.9</td>\n",
              "      <td>135</td>\n",
              "      <td>42</td>\n",
              "      <td>3.5</td>\n",
              "      <td>61</td>\n",
              "    </tr>\n",
              "    <tr>\n",
              "      <th>2</th>\n",
              "      <td>1</td>\n",
              "      <td>78</td>\n",
              "      <td>0</td>\n",
              "      <td>1</td>\n",
              "      <td>1</td>\n",
              "      <td>0</td>\n",
              "      <td>1</td>\n",
              "      <td>1</td>\n",
              "      <td>1</td>\n",
              "      <td>1</td>\n",
              "      <td>1</td>\n",
              "      <td>1</td>\n",
              "      <td>1</td>\n",
              "      <td>1</td>\n",
              "      <td>0</td>\n",
              "      <td>0.7</td>\n",
              "      <td>96</td>\n",
              "      <td>32</td>\n",
              "      <td>4.0</td>\n",
              "      <td>61</td>\n",
              "    </tr>\n",
              "    <tr>\n",
              "      <th>3</th>\n",
              "      <td>1</td>\n",
              "      <td>34</td>\n",
              "      <td>0</td>\n",
              "      <td>1</td>\n",
              "      <td>1</td>\n",
              "      <td>1</td>\n",
              "      <td>1</td>\n",
              "      <td>1</td>\n",
              "      <td>1</td>\n",
              "      <td>1</td>\n",
              "      <td>1</td>\n",
              "      <td>1</td>\n",
              "      <td>1</td>\n",
              "      <td>1</td>\n",
              "      <td>0</td>\n",
              "      <td>1.0</td>\n",
              "      <td>105</td>\n",
              "      <td>200</td>\n",
              "      <td>4.0</td>\n",
              "      <td>61</td>\n",
              "    </tr>\n",
              "    <tr>\n",
              "      <th>4</th>\n",
              "      <td>1</td>\n",
              "      <td>34</td>\n",
              "      <td>0</td>\n",
              "      <td>1</td>\n",
              "      <td>1</td>\n",
              "      <td>1</td>\n",
              "      <td>1</td>\n",
              "      <td>1</td>\n",
              "      <td>1</td>\n",
              "      <td>1</td>\n",
              "      <td>1</td>\n",
              "      <td>1</td>\n",
              "      <td>1</td>\n",
              "      <td>1</td>\n",
              "      <td>0</td>\n",
              "      <td>0.9</td>\n",
              "      <td>95</td>\n",
              "      <td>28</td>\n",
              "      <td>4.0</td>\n",
              "      <td>75</td>\n",
              "    </tr>\n",
              "    <tr>\n",
              "      <th>...</th>\n",
              "      <td>...</td>\n",
              "      <td>...</td>\n",
              "      <td>...</td>\n",
              "      <td>...</td>\n",
              "      <td>...</td>\n",
              "      <td>...</td>\n",
              "      <td>...</td>\n",
              "      <td>...</td>\n",
              "      <td>...</td>\n",
              "      <td>...</td>\n",
              "      <td>...</td>\n",
              "      <td>...</td>\n",
              "      <td>...</td>\n",
              "      <td>...</td>\n",
              "      <td>...</td>\n",
              "      <td>...</td>\n",
              "      <td>...</td>\n",
              "      <td>...</td>\n",
              "      <td>...</td>\n",
              "      <td>...</td>\n",
              "    </tr>\n",
              "    <tr>\n",
              "      <th>137</th>\n",
              "      <td>0</td>\n",
              "      <td>46</td>\n",
              "      <td>0</td>\n",
              "      <td>1</td>\n",
              "      <td>1</td>\n",
              "      <td>0</td>\n",
              "      <td>0</td>\n",
              "      <td>0</td>\n",
              "      <td>1</td>\n",
              "      <td>0</td>\n",
              "      <td>1</td>\n",
              "      <td>0</td>\n",
              "      <td>0</td>\n",
              "      <td>0</td>\n",
              "      <td>1</td>\n",
              "      <td>7.6</td>\n",
              "      <td>105</td>\n",
              "      <td>242</td>\n",
              "      <td>3.3</td>\n",
              "      <td>50</td>\n",
              "    </tr>\n",
              "    <tr>\n",
              "      <th>138</th>\n",
              "      <td>1</td>\n",
              "      <td>44</td>\n",
              "      <td>0</td>\n",
              "      <td>1</td>\n",
              "      <td>1</td>\n",
              "      <td>0</td>\n",
              "      <td>1</td>\n",
              "      <td>1</td>\n",
              "      <td>1</td>\n",
              "      <td>0</td>\n",
              "      <td>1</td>\n",
              "      <td>1</td>\n",
              "      <td>1</td>\n",
              "      <td>1</td>\n",
              "      <td>1</td>\n",
              "      <td>0.9</td>\n",
              "      <td>126</td>\n",
              "      <td>142</td>\n",
              "      <td>4.3</td>\n",
              "      <td>61</td>\n",
              "    </tr>\n",
              "    <tr>\n",
              "      <th>139</th>\n",
              "      <td>1</td>\n",
              "      <td>61</td>\n",
              "      <td>0</td>\n",
              "      <td>0</td>\n",
              "      <td>1</td>\n",
              "      <td>0</td>\n",
              "      <td>0</td>\n",
              "      <td>1</td>\n",
              "      <td>0</td>\n",
              "      <td>1</td>\n",
              "      <td>1</td>\n",
              "      <td>0</td>\n",
              "      <td>1</td>\n",
              "      <td>1</td>\n",
              "      <td>1</td>\n",
              "      <td>0.8</td>\n",
              "      <td>75</td>\n",
              "      <td>20</td>\n",
              "      <td>4.1</td>\n",
              "      <td>61</td>\n",
              "    </tr>\n",
              "    <tr>\n",
              "      <th>140</th>\n",
              "      <td>1</td>\n",
              "      <td>53</td>\n",
              "      <td>1</td>\n",
              "      <td>0</td>\n",
              "      <td>1</td>\n",
              "      <td>0</td>\n",
              "      <td>1</td>\n",
              "      <td>1</td>\n",
              "      <td>1</td>\n",
              "      <td>1</td>\n",
              "      <td>0</td>\n",
              "      <td>0</td>\n",
              "      <td>1</td>\n",
              "      <td>0</td>\n",
              "      <td>1</td>\n",
              "      <td>1.5</td>\n",
              "      <td>81</td>\n",
              "      <td>19</td>\n",
              "      <td>4.1</td>\n",
              "      <td>48</td>\n",
              "    </tr>\n",
              "    <tr>\n",
              "      <th>141</th>\n",
              "      <td>0</td>\n",
              "      <td>43</td>\n",
              "      <td>0</td>\n",
              "      <td>1</td>\n",
              "      <td>1</td>\n",
              "      <td>0</td>\n",
              "      <td>1</td>\n",
              "      <td>1</td>\n",
              "      <td>1</td>\n",
              "      <td>1</td>\n",
              "      <td>0</td>\n",
              "      <td>0</td>\n",
              "      <td>0</td>\n",
              "      <td>1</td>\n",
              "      <td>1</td>\n",
              "      <td>1.2</td>\n",
              "      <td>100</td>\n",
              "      <td>19</td>\n",
              "      <td>3.1</td>\n",
              "      <td>42</td>\n",
              "    </tr>\n",
              "  </tbody>\n",
              "</table>\n",
              "<p>142 rows × 20 columns</p>\n",
              "</div>\n",
              "      <button class=\"colab-df-convert\" onclick=\"convertToInteractive('df-98721911-47e5-460d-a35f-3032e881d286')\"\n",
              "              title=\"Convert this dataframe to an interactive table.\"\n",
              "              style=\"display:none;\">\n",
              "        \n",
              "  <svg xmlns=\"http://www.w3.org/2000/svg\" height=\"24px\"viewBox=\"0 0 24 24\"\n",
              "       width=\"24px\">\n",
              "    <path d=\"M0 0h24v24H0V0z\" fill=\"none\"/>\n",
              "    <path d=\"M18.56 5.44l.94 2.06.94-2.06 2.06-.94-2.06-.94-.94-2.06-.94 2.06-2.06.94zm-11 1L8.5 8.5l.94-2.06 2.06-.94-2.06-.94L8.5 2.5l-.94 2.06-2.06.94zm10 10l.94 2.06.94-2.06 2.06-.94-2.06-.94-.94-2.06-.94 2.06-2.06.94z\"/><path d=\"M17.41 7.96l-1.37-1.37c-.4-.4-.92-.59-1.43-.59-.52 0-1.04.2-1.43.59L10.3 9.45l-7.72 7.72c-.78.78-.78 2.05 0 2.83L4 21.41c.39.39.9.59 1.41.59.51 0 1.02-.2 1.41-.59l7.78-7.78 2.81-2.81c.8-.78.8-2.07 0-2.86zM5.41 20L4 18.59l7.72-7.72 1.47 1.35L5.41 20z\"/>\n",
              "  </svg>\n",
              "      </button>\n",
              "      \n",
              "  <style>\n",
              "    .colab-df-container {\n",
              "      display:flex;\n",
              "      flex-wrap:wrap;\n",
              "      gap: 12px;\n",
              "    }\n",
              "\n",
              "    .colab-df-convert {\n",
              "      background-color: #E8F0FE;\n",
              "      border: none;\n",
              "      border-radius: 50%;\n",
              "      cursor: pointer;\n",
              "      display: none;\n",
              "      fill: #1967D2;\n",
              "      height: 32px;\n",
              "      padding: 0 0 0 0;\n",
              "      width: 32px;\n",
              "    }\n",
              "\n",
              "    .colab-df-convert:hover {\n",
              "      background-color: #E2EBFA;\n",
              "      box-shadow: 0px 1px 2px rgba(60, 64, 67, 0.3), 0px 1px 3px 1px rgba(60, 64, 67, 0.15);\n",
              "      fill: #174EA6;\n",
              "    }\n",
              "\n",
              "    [theme=dark] .colab-df-convert {\n",
              "      background-color: #3B4455;\n",
              "      fill: #D2E3FC;\n",
              "    }\n",
              "\n",
              "    [theme=dark] .colab-df-convert:hover {\n",
              "      background-color: #434B5C;\n",
              "      box-shadow: 0px 1px 3px 1px rgba(0, 0, 0, 0.15);\n",
              "      filter: drop-shadow(0px 1px 2px rgba(0, 0, 0, 0.3));\n",
              "      fill: #FFFFFF;\n",
              "    }\n",
              "  </style>\n",
              "\n",
              "      <script>\n",
              "        const buttonEl =\n",
              "          document.querySelector('#df-98721911-47e5-460d-a35f-3032e881d286 button.colab-df-convert');\n",
              "        buttonEl.style.display =\n",
              "          google.colab.kernel.accessAllowed ? 'block' : 'none';\n",
              "\n",
              "        async function convertToInteractive(key) {\n",
              "          const element = document.querySelector('#df-98721911-47e5-460d-a35f-3032e881d286');\n",
              "          const dataTable =\n",
              "            await google.colab.kernel.invokeFunction('convertToInteractive',\n",
              "                                                     [key], {});\n",
              "          if (!dataTable) return;\n",
              "\n",
              "          const docLinkHtml = 'Like what you see? Visit the ' +\n",
              "            '<a target=\"_blank\" href=https://colab.research.google.com/notebooks/data_table.ipynb>data table notebook</a>'\n",
              "            + ' to learn more about interactive tables.';\n",
              "          element.innerHTML = '';\n",
              "          dataTable['output_type'] = 'display_data';\n",
              "          await google.colab.output.renderOutput(dataTable, element);\n",
              "          const docLink = document.createElement('div');\n",
              "          docLink.innerHTML = docLinkHtml;\n",
              "          element.appendChild(docLink);\n",
              "        }\n",
              "      </script>\n",
              "    </div>\n",
              "  </div>\n",
              "  "
            ]
          },
          "metadata": {},
          "execution_count": 18
        }
      ],
      "source": [
        "df_4"
      ]
    },
    {
      "cell_type": "code",
      "execution_count": null,
      "metadata": {
        "colab": {
          "base_uri": "https://localhost:8080/"
        },
        "id": "B4mPKtltpecf",
        "outputId": "098ff651-ce58-4563-f774-e60733470db6"
      },
      "outputs": [
        {
          "output_type": "stream",
          "name": "stdout",
          "text": [
            "<class 'pandas.core.frame.DataFrame'>\n",
            "RangeIndex: 142 entries, 0 to 141\n",
            "Data columns (total 20 columns):\n",
            " #   Column          Non-Null Count  Dtype  \n",
            "---  ------          --------------  -----  \n",
            " 0   class           142 non-null    int64  \n",
            " 1   age             142 non-null    int64  \n",
            " 2   sex             142 non-null    int64  \n",
            " 3   steroid         142 non-null    int64  \n",
            " 4   antivirals      142 non-null    int64  \n",
            " 5   fatigue         142 non-null    int64  \n",
            " 6   malaise         142 non-null    int64  \n",
            " 7   anorexia        142 non-null    int64  \n",
            " 8   liver_big       142 non-null    int64  \n",
            " 9   liver_firm      142 non-null    int64  \n",
            " 10  spleen_palable  142 non-null    int64  \n",
            " 11  spiders         142 non-null    int64  \n",
            " 12  ascites         142 non-null    int64  \n",
            " 13  varices         142 non-null    int64  \n",
            " 14  histology       142 non-null    int64  \n",
            " 15  bilirubin       142 non-null    float64\n",
            " 16  alk_phosphate   142 non-null    int64  \n",
            " 17  sgot            142 non-null    int64  \n",
            " 18  albumin         142 non-null    float64\n",
            " 19  protime         142 non-null    int64  \n",
            "dtypes: float64(2), int64(18)\n",
            "memory usage: 22.3 KB\n"
          ]
        }
      ],
      "source": [
        "df_4.info()"
      ]
    },
    {
      "cell_type": "markdown",
      "metadata": {
        "id": "rfCfO1fTJvZ6"
      },
      "source": [
        "### Graphs"
      ]
    },
    {
      "cell_type": "code",
      "execution_count": null,
      "metadata": {
        "id": "NriWXiPKNZMc"
      },
      "outputs": [],
      "source": [
        "df_4.rename(columns = {'class':'classi'}, inplace = True)"
      ]
    },
    {
      "cell_type": "code",
      "execution_count": null,
      "metadata": {
        "colab": {
          "base_uri": "https://localhost:8080/"
        },
        "id": "4I-UzjMHNnBC",
        "outputId": "51a33c28-d555-405e-81ee-b939bd37f419"
      },
      "outputs": [
        {
          "output_type": "execute_result",
          "data": {
            "text/plain": [
              "     classi  age  sex  steroid  antivirals  fatigue  malaise  anorexia  \\\n",
              "0         1   30    1        0           1        1        1         1   \n",
              "1         1   50    0        0           1        0        1         1   \n",
              "2         1   78    0        1           1        0        1         1   \n",
              "3         1   34    0        1           1        1        1         1   \n",
              "4         1   34    0        1           1        1        1         1   \n",
              "..      ...  ...  ...      ...         ...      ...      ...       ...   \n",
              "137       0   46    0        1           1        0        0         0   \n",
              "138       1   44    0        1           1        0        1         1   \n",
              "139       1   61    0        0           1        0        0         1   \n",
              "140       1   53    1        0           1        0        1         1   \n",
              "141       0   43    0        1           1        0        1         1   \n",
              "\n",
              "     liver_big  liver_firm  spleen_palable  spiders  ascites  varices  \\\n",
              "0            0           1               1        1        1        1   \n",
              "1            0           1               1        1        1        1   \n",
              "2            1           1               1        1        1        1   \n",
              "3            1           1               1        1        1        1   \n",
              "4            1           1               1        1        1        1   \n",
              "..         ...         ...             ...      ...      ...      ...   \n",
              "137          1           0               1        0        0        0   \n",
              "138          1           0               1        1        1        1   \n",
              "139          0           1               1        0        1        1   \n",
              "140          1           1               0        0        1        0   \n",
              "141          1           1               0        0        0        1   \n",
              "\n",
              "     histology  bilirubin  alk_phosphate  sgot  albumin  protime  \n",
              "0            0        1.0             85    18      4.0       61  \n",
              "1            0        0.9            135    42      3.5       61  \n",
              "2            0        0.7             96    32      4.0       61  \n",
              "3            0        1.0            105   200      4.0       61  \n",
              "4            0        0.9             95    28      4.0       75  \n",
              "..         ...        ...            ...   ...      ...      ...  \n",
              "137          1        7.6            105   242      3.3       50  \n",
              "138          1        0.9            126   142      4.3       61  \n",
              "139          1        0.8             75    20      4.1       61  \n",
              "140          1        1.5             81    19      4.1       48  \n",
              "141          1        1.2            100    19      3.1       42  \n",
              "\n",
              "[142 rows x 20 columns]"
            ],
            "text/html": [
              "\n",
              "  <div id=\"df-5d410e3c-05aa-4ebb-b169-187ec15a4571\">\n",
              "    <div class=\"colab-df-container\">\n",
              "      <div>\n",
              "<style scoped>\n",
              "    .dataframe tbody tr th:only-of-type {\n",
              "        vertical-align: middle;\n",
              "    }\n",
              "\n",
              "    .dataframe tbody tr th {\n",
              "        vertical-align: top;\n",
              "    }\n",
              "\n",
              "    .dataframe thead th {\n",
              "        text-align: right;\n",
              "    }\n",
              "</style>\n",
              "<table border=\"1\" class=\"dataframe\">\n",
              "  <thead>\n",
              "    <tr style=\"text-align: right;\">\n",
              "      <th></th>\n",
              "      <th>classi</th>\n",
              "      <th>age</th>\n",
              "      <th>sex</th>\n",
              "      <th>steroid</th>\n",
              "      <th>antivirals</th>\n",
              "      <th>fatigue</th>\n",
              "      <th>malaise</th>\n",
              "      <th>anorexia</th>\n",
              "      <th>liver_big</th>\n",
              "      <th>liver_firm</th>\n",
              "      <th>spleen_palable</th>\n",
              "      <th>spiders</th>\n",
              "      <th>ascites</th>\n",
              "      <th>varices</th>\n",
              "      <th>histology</th>\n",
              "      <th>bilirubin</th>\n",
              "      <th>alk_phosphate</th>\n",
              "      <th>sgot</th>\n",
              "      <th>albumin</th>\n",
              "      <th>protime</th>\n",
              "    </tr>\n",
              "  </thead>\n",
              "  <tbody>\n",
              "    <tr>\n",
              "      <th>0</th>\n",
              "      <td>1</td>\n",
              "      <td>30</td>\n",
              "      <td>1</td>\n",
              "      <td>0</td>\n",
              "      <td>1</td>\n",
              "      <td>1</td>\n",
              "      <td>1</td>\n",
              "      <td>1</td>\n",
              "      <td>0</td>\n",
              "      <td>1</td>\n",
              "      <td>1</td>\n",
              "      <td>1</td>\n",
              "      <td>1</td>\n",
              "      <td>1</td>\n",
              "      <td>0</td>\n",
              "      <td>1.0</td>\n",
              "      <td>85</td>\n",
              "      <td>18</td>\n",
              "      <td>4.0</td>\n",
              "      <td>61</td>\n",
              "    </tr>\n",
              "    <tr>\n",
              "      <th>1</th>\n",
              "      <td>1</td>\n",
              "      <td>50</td>\n",
              "      <td>0</td>\n",
              "      <td>0</td>\n",
              "      <td>1</td>\n",
              "      <td>0</td>\n",
              "      <td>1</td>\n",
              "      <td>1</td>\n",
              "      <td>0</td>\n",
              "      <td>1</td>\n",
              "      <td>1</td>\n",
              "      <td>1</td>\n",
              "      <td>1</td>\n",
              "      <td>1</td>\n",
              "      <td>0</td>\n",
              "      <td>0.9</td>\n",
              "      <td>135</td>\n",
              "      <td>42</td>\n",
              "      <td>3.5</td>\n",
              "      <td>61</td>\n",
              "    </tr>\n",
              "    <tr>\n",
              "      <th>2</th>\n",
              "      <td>1</td>\n",
              "      <td>78</td>\n",
              "      <td>0</td>\n",
              "      <td>1</td>\n",
              "      <td>1</td>\n",
              "      <td>0</td>\n",
              "      <td>1</td>\n",
              "      <td>1</td>\n",
              "      <td>1</td>\n",
              "      <td>1</td>\n",
              "      <td>1</td>\n",
              "      <td>1</td>\n",
              "      <td>1</td>\n",
              "      <td>1</td>\n",
              "      <td>0</td>\n",
              "      <td>0.7</td>\n",
              "      <td>96</td>\n",
              "      <td>32</td>\n",
              "      <td>4.0</td>\n",
              "      <td>61</td>\n",
              "    </tr>\n",
              "    <tr>\n",
              "      <th>3</th>\n",
              "      <td>1</td>\n",
              "      <td>34</td>\n",
              "      <td>0</td>\n",
              "      <td>1</td>\n",
              "      <td>1</td>\n",
              "      <td>1</td>\n",
              "      <td>1</td>\n",
              "      <td>1</td>\n",
              "      <td>1</td>\n",
              "      <td>1</td>\n",
              "      <td>1</td>\n",
              "      <td>1</td>\n",
              "      <td>1</td>\n",
              "      <td>1</td>\n",
              "      <td>0</td>\n",
              "      <td>1.0</td>\n",
              "      <td>105</td>\n",
              "      <td>200</td>\n",
              "      <td>4.0</td>\n",
              "      <td>61</td>\n",
              "    </tr>\n",
              "    <tr>\n",
              "      <th>4</th>\n",
              "      <td>1</td>\n",
              "      <td>34</td>\n",
              "      <td>0</td>\n",
              "      <td>1</td>\n",
              "      <td>1</td>\n",
              "      <td>1</td>\n",
              "      <td>1</td>\n",
              "      <td>1</td>\n",
              "      <td>1</td>\n",
              "      <td>1</td>\n",
              "      <td>1</td>\n",
              "      <td>1</td>\n",
              "      <td>1</td>\n",
              "      <td>1</td>\n",
              "      <td>0</td>\n",
              "      <td>0.9</td>\n",
              "      <td>95</td>\n",
              "      <td>28</td>\n",
              "      <td>4.0</td>\n",
              "      <td>75</td>\n",
              "    </tr>\n",
              "    <tr>\n",
              "      <th>...</th>\n",
              "      <td>...</td>\n",
              "      <td>...</td>\n",
              "      <td>...</td>\n",
              "      <td>...</td>\n",
              "      <td>...</td>\n",
              "      <td>...</td>\n",
              "      <td>...</td>\n",
              "      <td>...</td>\n",
              "      <td>...</td>\n",
              "      <td>...</td>\n",
              "      <td>...</td>\n",
              "      <td>...</td>\n",
              "      <td>...</td>\n",
              "      <td>...</td>\n",
              "      <td>...</td>\n",
              "      <td>...</td>\n",
              "      <td>...</td>\n",
              "      <td>...</td>\n",
              "      <td>...</td>\n",
              "      <td>...</td>\n",
              "    </tr>\n",
              "    <tr>\n",
              "      <th>137</th>\n",
              "      <td>0</td>\n",
              "      <td>46</td>\n",
              "      <td>0</td>\n",
              "      <td>1</td>\n",
              "      <td>1</td>\n",
              "      <td>0</td>\n",
              "      <td>0</td>\n",
              "      <td>0</td>\n",
              "      <td>1</td>\n",
              "      <td>0</td>\n",
              "      <td>1</td>\n",
              "      <td>0</td>\n",
              "      <td>0</td>\n",
              "      <td>0</td>\n",
              "      <td>1</td>\n",
              "      <td>7.6</td>\n",
              "      <td>105</td>\n",
              "      <td>242</td>\n",
              "      <td>3.3</td>\n",
              "      <td>50</td>\n",
              "    </tr>\n",
              "    <tr>\n",
              "      <th>138</th>\n",
              "      <td>1</td>\n",
              "      <td>44</td>\n",
              "      <td>0</td>\n",
              "      <td>1</td>\n",
              "      <td>1</td>\n",
              "      <td>0</td>\n",
              "      <td>1</td>\n",
              "      <td>1</td>\n",
              "      <td>1</td>\n",
              "      <td>0</td>\n",
              "      <td>1</td>\n",
              "      <td>1</td>\n",
              "      <td>1</td>\n",
              "      <td>1</td>\n",
              "      <td>1</td>\n",
              "      <td>0.9</td>\n",
              "      <td>126</td>\n",
              "      <td>142</td>\n",
              "      <td>4.3</td>\n",
              "      <td>61</td>\n",
              "    </tr>\n",
              "    <tr>\n",
              "      <th>139</th>\n",
              "      <td>1</td>\n",
              "      <td>61</td>\n",
              "      <td>0</td>\n",
              "      <td>0</td>\n",
              "      <td>1</td>\n",
              "      <td>0</td>\n",
              "      <td>0</td>\n",
              "      <td>1</td>\n",
              "      <td>0</td>\n",
              "      <td>1</td>\n",
              "      <td>1</td>\n",
              "      <td>0</td>\n",
              "      <td>1</td>\n",
              "      <td>1</td>\n",
              "      <td>1</td>\n",
              "      <td>0.8</td>\n",
              "      <td>75</td>\n",
              "      <td>20</td>\n",
              "      <td>4.1</td>\n",
              "      <td>61</td>\n",
              "    </tr>\n",
              "    <tr>\n",
              "      <th>140</th>\n",
              "      <td>1</td>\n",
              "      <td>53</td>\n",
              "      <td>1</td>\n",
              "      <td>0</td>\n",
              "      <td>1</td>\n",
              "      <td>0</td>\n",
              "      <td>1</td>\n",
              "      <td>1</td>\n",
              "      <td>1</td>\n",
              "      <td>1</td>\n",
              "      <td>0</td>\n",
              "      <td>0</td>\n",
              "      <td>1</td>\n",
              "      <td>0</td>\n",
              "      <td>1</td>\n",
              "      <td>1.5</td>\n",
              "      <td>81</td>\n",
              "      <td>19</td>\n",
              "      <td>4.1</td>\n",
              "      <td>48</td>\n",
              "    </tr>\n",
              "    <tr>\n",
              "      <th>141</th>\n",
              "      <td>0</td>\n",
              "      <td>43</td>\n",
              "      <td>0</td>\n",
              "      <td>1</td>\n",
              "      <td>1</td>\n",
              "      <td>0</td>\n",
              "      <td>1</td>\n",
              "      <td>1</td>\n",
              "      <td>1</td>\n",
              "      <td>1</td>\n",
              "      <td>0</td>\n",
              "      <td>0</td>\n",
              "      <td>0</td>\n",
              "      <td>1</td>\n",
              "      <td>1</td>\n",
              "      <td>1.2</td>\n",
              "      <td>100</td>\n",
              "      <td>19</td>\n",
              "      <td>3.1</td>\n",
              "      <td>42</td>\n",
              "    </tr>\n",
              "  </tbody>\n",
              "</table>\n",
              "<p>142 rows × 20 columns</p>\n",
              "</div>\n",
              "      <button class=\"colab-df-convert\" onclick=\"convertToInteractive('df-5d410e3c-05aa-4ebb-b169-187ec15a4571')\"\n",
              "              title=\"Convert this dataframe to an interactive table.\"\n",
              "              style=\"display:none;\">\n",
              "        \n",
              "  <svg xmlns=\"http://www.w3.org/2000/svg\" height=\"24px\"viewBox=\"0 0 24 24\"\n",
              "       width=\"24px\">\n",
              "    <path d=\"M0 0h24v24H0V0z\" fill=\"none\"/>\n",
              "    <path d=\"M18.56 5.44l.94 2.06.94-2.06 2.06-.94-2.06-.94-.94-2.06-.94 2.06-2.06.94zm-11 1L8.5 8.5l.94-2.06 2.06-.94-2.06-.94L8.5 2.5l-.94 2.06-2.06.94zm10 10l.94 2.06.94-2.06 2.06-.94-2.06-.94-.94-2.06-.94 2.06-2.06.94z\"/><path d=\"M17.41 7.96l-1.37-1.37c-.4-.4-.92-.59-1.43-.59-.52 0-1.04.2-1.43.59L10.3 9.45l-7.72 7.72c-.78.78-.78 2.05 0 2.83L4 21.41c.39.39.9.59 1.41.59.51 0 1.02-.2 1.41-.59l7.78-7.78 2.81-2.81c.8-.78.8-2.07 0-2.86zM5.41 20L4 18.59l7.72-7.72 1.47 1.35L5.41 20z\"/>\n",
              "  </svg>\n",
              "      </button>\n",
              "      \n",
              "  <style>\n",
              "    .colab-df-container {\n",
              "      display:flex;\n",
              "      flex-wrap:wrap;\n",
              "      gap: 12px;\n",
              "    }\n",
              "\n",
              "    .colab-df-convert {\n",
              "      background-color: #E8F0FE;\n",
              "      border: none;\n",
              "      border-radius: 50%;\n",
              "      cursor: pointer;\n",
              "      display: none;\n",
              "      fill: #1967D2;\n",
              "      height: 32px;\n",
              "      padding: 0 0 0 0;\n",
              "      width: 32px;\n",
              "    }\n",
              "\n",
              "    .colab-df-convert:hover {\n",
              "      background-color: #E2EBFA;\n",
              "      box-shadow: 0px 1px 2px rgba(60, 64, 67, 0.3), 0px 1px 3px 1px rgba(60, 64, 67, 0.15);\n",
              "      fill: #174EA6;\n",
              "    }\n",
              "\n",
              "    [theme=dark] .colab-df-convert {\n",
              "      background-color: #3B4455;\n",
              "      fill: #D2E3FC;\n",
              "    }\n",
              "\n",
              "    [theme=dark] .colab-df-convert:hover {\n",
              "      background-color: #434B5C;\n",
              "      box-shadow: 0px 1px 3px 1px rgba(0, 0, 0, 0.15);\n",
              "      filter: drop-shadow(0px 1px 2px rgba(0, 0, 0, 0.3));\n",
              "      fill: #FFFFFF;\n",
              "    }\n",
              "  </style>\n",
              "\n",
              "      <script>\n",
              "        const buttonEl =\n",
              "          document.querySelector('#df-5d410e3c-05aa-4ebb-b169-187ec15a4571 button.colab-df-convert');\n",
              "        buttonEl.style.display =\n",
              "          google.colab.kernel.accessAllowed ? 'block' : 'none';\n",
              "\n",
              "        async function convertToInteractive(key) {\n",
              "          const element = document.querySelector('#df-5d410e3c-05aa-4ebb-b169-187ec15a4571');\n",
              "          const dataTable =\n",
              "            await google.colab.kernel.invokeFunction('convertToInteractive',\n",
              "                                                     [key], {});\n",
              "          if (!dataTable) return;\n",
              "\n",
              "          const docLinkHtml = 'Like what you see? Visit the ' +\n",
              "            '<a target=\"_blank\" href=https://colab.research.google.com/notebooks/data_table.ipynb>data table notebook</a>'\n",
              "            + ' to learn more about interactive tables.';\n",
              "          element.innerHTML = '';\n",
              "          dataTable['output_type'] = 'display_data';\n",
              "          await google.colab.output.renderOutput(dataTable, element);\n",
              "          const docLink = document.createElement('div');\n",
              "          docLink.innerHTML = docLinkHtml;\n",
              "          element.appendChild(docLink);\n",
              "        }\n",
              "      </script>\n",
              "    </div>\n",
              "  </div>\n",
              "  "
            ]
          },
          "metadata": {},
          "execution_count": 21
        }
      ],
      "source": [
        "df_4"
      ]
    },
    {
      "cell_type": "code",
      "execution_count": null,
      "metadata": {
        "colab": {
          "base_uri": "https://localhost:8080/"
        },
        "id": "JfroBmOIMeNM",
        "outputId": "ea183820-cbe3-4e32-89a8-d0b9686c9790"
      },
      "outputs": [
        {
          "output_type": "display_data",
          "data": {
            "text/plain": [
              "<Figure size 432x288 with 1 Axes>"
            ],
            "image/png": "[encoded data removed]"
          },
          "metadata": {}
        }
      ],
      "source": [
        "label = df_4.classi.value_counts().index\n",
        "label_count = df_4.classi.value_counts().values\n",
        "plt.pie(data=df_4, x=label_count, labels=label, autopct='%1.1f%%', shadow=True, radius=2)\n",
        "plt.show()"
      ]
    },
    {
      "cell_type": "code",
      "execution_count": null,
      "metadata": {
        "colab": {
          "base_uri": "https://localhost:8080/"
        },
        "id": "-ExiPr4_N0iL",
        "outputId": "ba32003f-9e48-4af6-d870-ca83e5be0c40"
      },
      "outputs": [
        {
          "output_type": "execute_result",
          "data": {
            "text/plain": [
              "<matplotlib.axes._subplots.AxesSubplot at 0x7fd53864fb50>"
            ]
          },
          "metadata": {},
          "execution_count": 23
        },
        {
          "output_type": "display_data",
          "data": {
            "text/plain": [
              "<Figure size 432x288 with 1 Axes>"
            ],
            "image/png": "[encoded data removed]"
          },
          "metadata": {
            "needs_background": "light"
          }
        }
      ],
      "source": [
        "df_4[\"age\"].hist()"
      ]
    },
    {
      "cell_type": "code",
      "execution_count": null,
      "metadata": {
        "colab": {
          "base_uri": "https://localhost:8080/"
        },
        "id": "zYmO7n6dQ6cz",
        "outputId": "72202b48-e6cd-4389-8d84-fca6243ec852"
      },
      "outputs": [
        {
          "output_type": "display_data",
          "data": {
            "text/plain": [
              "<Figure size 432x288 with 1 Axes>"
            ],
            "image/png": "[encoded data removed]"
          },
          "metadata": {
            "needs_background": "light"
          }
        },
        {
          "output_type": "display_data",
          "data": {
            "text/plain": [
              "<Figure size 432x288 with 1 Axes>"
            ],
            "image/png": "[encoded data removed]"
          },
          "metadata": {
            "needs_background": "light"
          }
        },
        {
          "output_type": "display_data",
          "data": {
            "text/plain": [
              "<Figure size 432x288 with 1 Axes>"
            ],
            "image/png": "[encoded data removed]"
          },
          "metadata": {
            "needs_background": "light"
          }
        },
        {
          "output_type": "display_data",
          "data": {
            "text/plain": [
              "<Figure size 432x288 with 1 Axes>"
            ],
            "image/png": "[encoded data removed]"
          },
          "metadata": {
            "needs_background": "light"
          }
        },
        {
          "output_type": "display_data",
          "data": {
            "text/plain": [
              "<Figure size 432x288 with 1 Axes>"
            ],
            "image/png": "[encoded data removed]"
          },
          "metadata": {
            "needs_background": "light"
          }
        },
        {
          "output_type": "display_data",
          "data": {
            "text/plain": [
              "<Figure size 432x288 with 1 Axes>"
            ],
            "image/png": "[encoded data removed]"
          },
          "metadata": {
            "needs_background": "light"
          }
        },
        {
          "output_type": "display_data",
          "data": {
            "text/plain": [
              "<Figure size 432x288 with 1 Axes>"
            ],
            "image/png": "[encoded data removed]"
          },
          "metadata": {
            "needs_background": "light"
          }
        },
        {
          "output_type": "display_data",
          "data": {
            "text/plain": [
              "<Figure size 432x288 with 1 Axes>"
            ],
            "image/png": "[encoded data removed]"
          },
          "metadata": {
            "needs_background": "light"
          }
        },
        {
          "output_type": "display_data",
          "data": {
            "text/plain": [
              "<Figure size 432x288 with 1 Axes>"
            ],
            "image/png": "[encoded data removed]"
          },
          "metadata": {
            "needs_background": "light"
          }
        },
        {
          "output_type": "display_data",
          "data": {
            "text/plain": [
              "<Figure size 432x288 with 1 Axes>"
            ],
            "image/png": "[encoded data removed]"
          },
          "metadata": {
            "needs_background": "light"
          }
        },
        {
          "output_type": "display_data",
          "data": {
            "text/plain": [
              "<Figure size 432x288 with 1 Axes>"
            ],
            "image/png": "[encoded data removed]"
          },
          "metadata": {
            "needs_background": "light"
          }
        },
        {
          "output_type": "display_data",
          "data": {
            "text/plain": [
              "<Figure size 432x288 with 1 Axes>"
            ],
            "image/png": "[encoded data removed]"
          },
          "metadata": {
            "needs_background": "light"
          }
        },
        {
          "output_type": "display_data",
          "data": {
            "text/plain": [
              "<Figure size 432x288 with 1 Axes>"
            ],
            "image/png": "[encoded data removed]"
          },
          "metadata": {
            "needs_background": "light"
          }
        },
        {
          "output_type": "display_data",
          "data": {
            "text/plain": [
              "<Figure size 432x288 with 1 Axes>"
            ],
            "image/png": "[encoded data removed]"
          },
          "metadata": {
            "needs_background": "light"
          }
        },
        {
          "output_type": "display_data",
          "data": {
            "text/plain": [
              "<Figure size 432x288 with 1 Axes>"
            ],
            "image/png": "[encoded data removed]"
          },
          "metadata": {
            "needs_background": "light"
          }
        },
        {
          "output_type": "display_data",
          "data": {
            "text/plain": [
              "<Figure size 432x288 with 1 Axes>"
            ],
            "image/png": "[encoded data removed]"
          },
          "metadata": {
            "needs_background": "light"
          }
        },
        {
          "output_type": "display_data",
          "data": {
            "text/plain": [
              "<Figure size 432x288 with 1 Axes>"
            ],
            "image/png": "[encoded data removed]"
          },
          "metadata": {
            "needs_background": "light"
          }
        },
        {
          "output_type": "display_data",
          "data": {
            "text/plain": [
              "<Figure size 432x288 with 1 Axes>"
            ],
            "image/png": "[encoded data removed]"
          },
          "metadata": {
            "needs_background": "light"
          }
        },
        {
          "output_type": "display_data",
          "data": {
            "text/plain": [
              "<Figure size 432x288 with 1 Axes>"
            ],
            "image/png": "[encoded data removed]"
          },
          "metadata": {
            "needs_background": "light"
          }
        },
        {
          "output_type": "display_data",
          "data": {
            "text/plain": [
              "<Figure size 432x288 with 1 Axes>"
            ],
            "image/png": "[encoded data removed]"
          },
          "metadata": {
            "needs_background": "light"
          }
        }
      ],
      "source": [
        "import matplotlib.pyplot as plt\n",
        "\n",
        "\n",
        "for i, col in enumerate(df_4.columns):\n",
        "    plt.figure(i)\n",
        "    sns.countplot(x=col, data=df_4,hue=\"classi\")"
      ]
    },
    {
      "cell_type": "markdown",
      "metadata": {
        "id": "F-noG0OEcuwq"
      },
      "source": [
        "## machine learning algorithms "
      ]
    },
    {
      "cell_type": "code",
      "execution_count": null,
      "metadata": {
        "id": "dj3-SGA6cNc7"
      },
      "outputs": [],
      "source": [
        "x = df_4.drop(\"classi\", axis =1)\n",
        "y = df_4[\"classi\"]"
      ]
    },
    {
      "cell_type": "code",
      "execution_count": null,
      "metadata": {
        "id": "g2hfJYEld11U"
      },
      "outputs": [],
      "source": [
        "from sklearn.model_selection import train_test_split\n",
        "x_train,x_test,y_train,y_test = train_test_split(x,y,test_size = 0.2, random_state = 42)"
      ]
    },
    {
      "cell_type": "code",
      "execution_count": null,
      "metadata": {
        "id": "jUde5M4Ml7Wt"
      },
      "outputs": [],
      "source": [
        "import tensorflow as tf "
      ]
    },
    {
      "cell_type": "code",
      "execution_count": null,
      "metadata": {
        "colab": {
          "base_uri": "https://localhost:8080/"
        },
        "id": "D2TJrkZslKw-",
        "outputId": "d5b7eb0e-ba87-47c8-e585-8eef23773c5d"
      },
      "outputs": [
        {
          "name": "stderr",
          "output_type": "stream",
          "text": [
            "/usr/local/lib/python3.7/dist-packages/keras/optimizers/optimizer_v2/adam.py:110: UserWarning: The `lr` argument is deprecated, use `learning_rate` instead.\n",
            "  super(Adam, self).__init__(name, **kwargs)\n"
          ]
        }
      ],
      "source": [
        "tf.random.set_seed(42)\n",
        "\n",
        "# STEP1: Creating the model\n",
        "\n",
        "model = tf.keras.Sequential([\n",
        "                            tf.keras.layers.Dense(10, activation='relu'),\n",
        "                            tf.keras.layers.Dense(7, activation='relu'),\n",
        "                            tf.keras.layers.Dense(5, activation='relu'),\n",
        "                            tf.keras.layers.Dense(1, activation='sigmoid')\n",
        "])\n",
        "\n",
        "# STEP2: Compiling the model\n",
        "\n",
        "model.compile(loss= tf.keras.losses.binary_crossentropy,\n",
        "              optimizer= tf.keras.optimizers.Adam(lr=0.005),\n",
        "              metrics= [tf.keras.metrics.BinaryAccuracy(name='accuracy'),\n",
        "                        tf.keras.metrics.Precision(name='precision'),\n",
        "                        tf.keras.metrics.Recall(name='a=recall')\n",
        "              ]\n",
        "              )\n",
        "\n",
        "\n"
      ]
    },
    {
      "cell_type": "code",
      "execution_count": null,
      "metadata": {
        "colab": {
          "base_uri": "https://localhost:8080/"
        },
        "id": "QUnyrTX34LqA",
        "outputId": "4173acff-727b-40c9-e41e-f24d5662bf53"
      },
      "outputs": [
        {
          "name": "stdout",
          "output_type": "stream",
          "text": [
            "Epoch 1/100\n",
            "4/4 [==============================] - 2s 4ms/step - loss: 3.4724 - accuracy: 0.5664 - precision: 0.8154 - a=recall: 0.5889\n",
            "Epoch 2/100\n",
            "4/4 [==============================] - 0s 4ms/step - loss: 1.8308 - accuracy: 0.7257 - precision: 0.8172 - a=recall: 0.8444\n",
            "Epoch 3/100\n",
            "4/4 [==============================] - 0s 4ms/step - loss: 1.6558 - accuracy: 0.7965 - precision: 0.7965 - a=recall: 1.0000\n",
            "Epoch 4/100\n",
            "4/4 [==============================] - 0s 4ms/step - loss: 1.1517 - accuracy: 0.7611 - precision: 0.7944 - a=recall: 0.9444\n",
            "Epoch 5/100\n",
            "4/4 [==============================] - 0s 4ms/step - loss: 0.9258 - accuracy: 0.6372 - precision: 0.8101 - a=recall: 0.7111\n",
            "Epoch 6/100\n",
            "4/4 [==============================] - 0s 4ms/step - loss: 0.6034 - accuracy: 0.7699 - precision: 0.8478 - a=recall: 0.8667\n",
            "Epoch 7/100\n",
            "4/4 [==============================] - 0s 5ms/step - loss: 0.6600 - accuracy: 0.7965 - precision: 0.7965 - a=recall: 1.0000\n",
            "Epoch 8/100\n",
            "4/4 [==============================] - 0s 4ms/step - loss: 0.5449 - accuracy: 0.7965 - precision: 0.7965 - a=recall: 1.0000\n",
            "Epoch 9/100\n",
            "4/4 [==============================] - 0s 4ms/step - loss: 0.5674 - accuracy: 0.6549 - precision: 0.8228 - a=recall: 0.7222\n",
            "Epoch 10/100\n",
            "4/4 [==============================] - 0s 5ms/step - loss: 0.4572 - accuracy: 0.7876 - precision: 0.8235 - a=recall: 0.9333\n",
            "Epoch 11/100\n",
            "4/4 [==============================] - 0s 6ms/step - loss: 0.4847 - accuracy: 0.7965 - precision: 0.7965 - a=recall: 1.0000\n",
            "Epoch 12/100\n",
            "4/4 [==============================] - 0s 4ms/step - loss: 0.4378 - accuracy: 0.8053 - precision: 0.8036 - a=recall: 1.0000\n",
            "Epoch 13/100\n",
            "4/4 [==============================] - 0s 4ms/step - loss: 0.4169 - accuracy: 0.8053 - precision: 0.8617 - a=recall: 0.9000\n",
            "Epoch 14/100\n",
            "4/4 [==============================] - 0s 3ms/step - loss: 0.4199 - accuracy: 0.8053 - precision: 0.8400 - a=recall: 0.9333\n",
            "Epoch 15/100\n",
            "4/4 [==============================] - 0s 3ms/step - loss: 0.4040 - accuracy: 0.8230 - precision: 0.8182 - a=recall: 1.0000\n",
            "Epoch 16/100\n",
            "4/4 [==============================] - 0s 4ms/step - loss: 0.3950 - accuracy: 0.8142 - precision: 0.8286 - a=recall: 0.9667\n",
            "Epoch 17/100\n",
            "4/4 [==============================] - 0s 4ms/step - loss: 0.3851 - accuracy: 0.8230 - precision: 0.8431 - a=recall: 0.9556\n",
            "Epoch 18/100\n",
            "4/4 [==============================] - 0s 4ms/step - loss: 0.3774 - accuracy: 0.8053 - precision: 0.8269 - a=recall: 0.9556\n",
            "Epoch 19/100\n",
            "4/4 [==============================] - 0s 5ms/step - loss: 0.3750 - accuracy: 0.8407 - precision: 0.8600 - a=recall: 0.9556\n",
            "Epoch 20/100\n",
            "4/4 [==============================] - 0s 4ms/step - loss: 0.3729 - accuracy: 0.8053 - precision: 0.8269 - a=recall: 0.9556\n",
            "Epoch 21/100\n",
            "4/4 [==============================] - 0s 5ms/step - loss: 0.3695 - accuracy: 0.8230 - precision: 0.8500 - a=recall: 0.9444\n",
            "Epoch 22/100\n",
            "4/4 [==============================] - 0s 4ms/step - loss: 0.3621 - accuracy: 0.8407 - precision: 0.8600 - a=recall: 0.9556\n",
            "Epoch 23/100\n",
            "4/4 [==============================] - 0s 3ms/step - loss: 0.3581 - accuracy: 0.8142 - precision: 0.8286 - a=recall: 0.9667\n",
            "Epoch 24/100\n",
            "4/4 [==============================] - 0s 3ms/step - loss: 0.3648 - accuracy: 0.8319 - precision: 0.8447 - a=recall: 0.9667\n",
            "Epoch 25/100\n",
            "4/4 [==============================] - 0s 4ms/step - loss: 0.3556 - accuracy: 0.8319 - precision: 0.8515 - a=recall: 0.9556\n",
            "Epoch 26/100\n",
            "4/4 [==============================] - 0s 4ms/step - loss: 0.3523 - accuracy: 0.8230 - precision: 0.8431 - a=recall: 0.9556\n",
            "Epoch 27/100\n",
            "4/4 [==============================] - 0s 4ms/step - loss: 0.3550 - accuracy: 0.8319 - precision: 0.8586 - a=recall: 0.9444\n",
            "Epoch 28/100\n",
            "4/4 [==============================] - 0s 3ms/step - loss: 0.3584 - accuracy: 0.8496 - precision: 0.8476 - a=recall: 0.9889\n",
            "Epoch 29/100\n",
            "4/4 [==============================] - 0s 4ms/step - loss: 0.3496 - accuracy: 0.8319 - precision: 0.8660 - a=recall: 0.9333\n",
            "Epoch 30/100\n",
            "4/4 [==============================] - 0s 4ms/step - loss: 0.3482 - accuracy: 0.8230 - precision: 0.8571 - a=recall: 0.9333\n",
            "Epoch 31/100\n",
            "4/4 [==============================] - 0s 4ms/step - loss: 0.3379 - accuracy: 0.8407 - precision: 0.8529 - a=recall: 0.9667\n",
            "Epoch 32/100\n",
            "4/4 [==============================] - 0s 4ms/step - loss: 0.3313 - accuracy: 0.8407 - precision: 0.8600 - a=recall: 0.9556\n",
            "Epoch 33/100\n",
            "4/4 [==============================] - 0s 4ms/step - loss: 0.3345 - accuracy: 0.8584 - precision: 0.8776 - a=recall: 0.9556\n",
            "Epoch 34/100\n",
            "4/4 [==============================] - 0s 4ms/step - loss: 0.3580 - accuracy: 0.8230 - precision: 0.8241 - a=recall: 0.9889\n",
            "Epoch 35/100\n",
            "4/4 [==============================] - 0s 3ms/step - loss: 0.3320 - accuracy: 0.8230 - precision: 0.8365 - a=recall: 0.9667\n",
            "Epoch 36/100\n",
            "4/4 [==============================] - 0s 3ms/step - loss: 0.3529 - accuracy: 0.8319 - precision: 0.8901 - a=recall: 0.9000\n",
            "Epoch 37/100\n",
            "4/4 [==============================] - 0s 3ms/step - loss: 0.3436 - accuracy: 0.8407 - precision: 0.8333 - a=recall: 1.0000\n",
            "Epoch 38/100\n",
            "4/4 [==============================] - 0s 4ms/step - loss: 0.3163 - accuracy: 0.8496 - precision: 0.8411 - a=recall: 1.0000\n",
            "Epoch 39/100\n",
            "4/4 [==============================] - 0s 4ms/step - loss: 0.3384 - accuracy: 0.8319 - precision: 0.8989 - a=recall: 0.8889\n",
            "Epoch 40/100\n",
            "4/4 [==============================] - 0s 3ms/step - loss: 0.3225 - accuracy: 0.8496 - precision: 0.8614 - a=recall: 0.9667\n",
            "Epoch 41/100\n",
            "4/4 [==============================] - 0s 4ms/step - loss: 0.3113 - accuracy: 0.8584 - precision: 0.8558 - a=recall: 0.9889\n",
            "Epoch 42/100\n",
            "4/4 [==============================] - 0s 4ms/step - loss: 0.3138 - accuracy: 0.8938 - precision: 0.9149 - a=recall: 0.9556\n",
            "Epoch 43/100\n",
            "4/4 [==============================] - 0s 4ms/step - loss: 0.3152 - accuracy: 0.8407 - precision: 0.8462 - a=recall: 0.9778\n",
            "Epoch 44/100\n",
            "4/4 [==============================] - 0s 5ms/step - loss: 0.2998 - accuracy: 0.8673 - precision: 0.8641 - a=recall: 0.9889\n",
            "Epoch 45/100\n",
            "4/4 [==============================] - 0s 3ms/step - loss: 0.3054 - accuracy: 0.8761 - precision: 0.9043 - a=recall: 0.9444\n",
            "Epoch 46/100\n",
            "4/4 [==============================] - 0s 4ms/step - loss: 0.3060 - accuracy: 0.8584 - precision: 0.8627 - a=recall: 0.9778\n",
            "Epoch 47/100\n",
            "4/4 [==============================] - 0s 4ms/step - loss: 0.3001 - accuracy: 0.8673 - precision: 0.8571 - a=recall: 1.0000\n",
            "Epoch 48/100\n",
            "4/4 [==============================] - 0s 4ms/step - loss: 0.2973 - accuracy: 0.8761 - precision: 0.9043 - a=recall: 0.9444\n",
            "Epoch 49/100\n",
            "4/4 [==============================] - 0s 3ms/step - loss: 0.2915 - accuracy: 0.8761 - precision: 0.9043 - a=recall: 0.9444\n",
            "Epoch 50/100\n",
            "4/4 [==============================] - 0s 3ms/step - loss: 0.2925 - accuracy: 0.8850 - precision: 0.8738 - a=recall: 1.0000\n",
            "Epoch 51/100\n",
            "4/4 [==============================] - 0s 4ms/step - loss: 0.2916 - accuracy: 0.8673 - precision: 0.8571 - a=recall: 1.0000\n",
            "Epoch 52/100\n",
            "4/4 [==============================] - 0s 4ms/step - loss: 0.2850 - accuracy: 0.8850 - precision: 0.8969 - a=recall: 0.9667\n",
            "Epoch 53/100\n",
            "4/4 [==============================] - 0s 4ms/step - loss: 0.2922 - accuracy: 0.8850 - precision: 0.9053 - a=recall: 0.9556\n",
            "Epoch 54/100\n",
            "4/4 [==============================] - 0s 4ms/step - loss: 0.2910 - accuracy: 0.8761 - precision: 0.9130 - a=recall: 0.9333\n",
            "Epoch 55/100\n",
            "4/4 [==============================] - 0s 4ms/step - loss: 0.3039 - accuracy: 0.8761 - precision: 0.8654 - a=recall: 1.0000\n",
            "Epoch 56/100\n",
            "4/4 [==============================] - 0s 4ms/step - loss: 0.3195 - accuracy: 0.8584 - precision: 0.8936 - a=recall: 0.9333\n",
            "Epoch 57/100\n",
            "4/4 [==============================] - 0s 4ms/step - loss: 0.3469 - accuracy: 0.8584 - precision: 0.8627 - a=recall: 0.9778\n",
            "Epoch 58/100\n",
            "4/4 [==============================] - 0s 6ms/step - loss: 0.3345 - accuracy: 0.8230 - precision: 0.8431 - a=recall: 0.9556\n",
            "Epoch 59/100\n",
            "4/4 [==============================] - 0s 4ms/step - loss: 0.2879 - accuracy: 0.8850 - precision: 0.9326 - a=recall: 0.9222\n",
            "Epoch 60/100\n",
            "4/4 [==============================] - 0s 5ms/step - loss: 0.3277 - accuracy: 0.8319 - precision: 0.8257 - a=recall: 1.0000\n",
            "Epoch 61/100\n",
            "4/4 [==============================] - 0s 4ms/step - loss: 0.2639 - accuracy: 0.9115 - precision: 0.9167 - a=recall: 0.9778\n",
            "Epoch 62/100\n",
            "4/4 [==============================] - 0s 4ms/step - loss: 0.2816 - accuracy: 0.8850 - precision: 0.9326 - a=recall: 0.9222\n",
            "Epoch 63/100\n",
            "4/4 [==============================] - 0s 4ms/step - loss: 0.2806 - accuracy: 0.8850 - precision: 0.8738 - a=recall: 1.0000\n",
            "Epoch 64/100\n",
            "4/4 [==============================] - 0s 4ms/step - loss: 0.2657 - accuracy: 0.8850 - precision: 0.9140 - a=recall: 0.9444\n",
            "Epoch 65/100\n",
            "4/4 [==============================] - 0s 3ms/step - loss: 0.2655 - accuracy: 0.8850 - precision: 0.9326 - a=recall: 0.9222\n",
            "Epoch 66/100\n",
            "4/4 [==============================] - 0s 4ms/step - loss: 0.2606 - accuracy: 0.9027 - precision: 0.8911 - a=recall: 1.0000\n",
            "Epoch 67/100\n",
            "4/4 [==============================] - 0s 3ms/step - loss: 0.2643 - accuracy: 0.8673 - precision: 0.8788 - a=recall: 0.9667\n",
            "Epoch 68/100\n",
            "4/4 [==============================] - 0s 3ms/step - loss: 0.2560 - accuracy: 0.8938 - precision: 0.9062 - a=recall: 0.9667\n",
            "Epoch 69/100\n",
            "4/4 [==============================] - 0s 3ms/step - loss: 0.2552 - accuracy: 0.9027 - precision: 0.8911 - a=recall: 1.0000\n",
            "Epoch 70/100\n",
            "4/4 [==============================] - 0s 4ms/step - loss: 0.2541 - accuracy: 0.8850 - precision: 0.9140 - a=recall: 0.9444\n",
            "Epoch 71/100\n",
            "4/4 [==============================] - 0s 4ms/step - loss: 0.2543 - accuracy: 0.8761 - precision: 0.9318 - a=recall: 0.9111\n",
            "Epoch 72/100\n",
            "4/4 [==============================] - 0s 4ms/step - loss: 0.2488 - accuracy: 0.8938 - precision: 0.8824 - a=recall: 1.0000\n",
            "Epoch 73/100\n",
            "4/4 [==============================] - 0s 4ms/step - loss: 0.2476 - accuracy: 0.9027 - precision: 0.9072 - a=recall: 0.9778\n",
            "Epoch 74/100\n",
            "4/4 [==============================] - 0s 4ms/step - loss: 0.2458 - accuracy: 0.8850 - precision: 0.9231 - a=recall: 0.9333\n",
            "Epoch 75/100\n",
            "4/4 [==============================] - 0s 4ms/step - loss: 0.2645 - accuracy: 0.8761 - precision: 0.8654 - a=recall: 1.0000\n",
            "Epoch 76/100\n",
            "4/4 [==============================] - 0s 4ms/step - loss: 0.2565 - accuracy: 0.9204 - precision: 0.9451 - a=recall: 0.9556\n",
            "Epoch 77/100\n",
            "4/4 [==============================] - 0s 4ms/step - loss: 0.2805 - accuracy: 0.8673 - precision: 0.8641 - a=recall: 0.9889\n",
            "Epoch 78/100\n",
            "4/4 [==============================] - 0s 6ms/step - loss: 0.2375 - accuracy: 0.8850 - precision: 0.8969 - a=recall: 0.9667\n",
            "Epoch 79/100\n",
            "4/4 [==============================] - 0s 4ms/step - loss: 0.2630 - accuracy: 0.8761 - precision: 0.9318 - a=recall: 0.9111\n",
            "Epoch 80/100\n",
            "4/4 [==============================] - 0s 10ms/step - loss: 0.2518 - accuracy: 0.8673 - precision: 0.8641 - a=recall: 0.9889\n",
            "Epoch 81/100\n",
            "4/4 [==============================] - 0s 6ms/step - loss: 0.2365 - accuracy: 0.9027 - precision: 0.9438 - a=recall: 0.9333\n",
            "Epoch 82/100\n",
            "4/4 [==============================] - 0s 4ms/step - loss: 0.2315 - accuracy: 0.9027 - precision: 0.9158 - a=recall: 0.9667\n",
            "Epoch 83/100\n",
            "4/4 [==============================] - 0s 4ms/step - loss: 0.2362 - accuracy: 0.8850 - precision: 0.8969 - a=recall: 0.9667\n",
            "Epoch 84/100\n",
            "4/4 [==============================] - 0s 4ms/step - loss: 0.2285 - accuracy: 0.9292 - precision: 0.9457 - a=recall: 0.9667\n",
            "Epoch 85/100\n",
            "4/4 [==============================] - 0s 4ms/step - loss: 0.2274 - accuracy: 0.8850 - precision: 0.8812 - a=recall: 0.9889\n",
            "Epoch 86/100\n",
            "4/4 [==============================] - 0s 5ms/step - loss: 0.2293 - accuracy: 0.8850 - precision: 0.8812 - a=recall: 0.9889\n",
            "Epoch 87/100\n",
            "4/4 [==============================] - 0s 4ms/step - loss: 0.2326 - accuracy: 0.9027 - precision: 0.9438 - a=recall: 0.9333\n",
            "Epoch 88/100\n",
            "4/4 [==============================] - 0s 4ms/step - loss: 0.2208 - accuracy: 0.9204 - precision: 0.9451 - a=recall: 0.9556\n",
            "Epoch 89/100\n",
            "4/4 [==============================] - 0s 4ms/step - loss: 0.2199 - accuracy: 0.9027 - precision: 0.9072 - a=recall: 0.9778\n",
            "Epoch 90/100\n",
            "4/4 [==============================] - 0s 6ms/step - loss: 0.2162 - accuracy: 0.9292 - precision: 0.9457 - a=recall: 0.9667\n",
            "Epoch 91/100\n",
            "4/4 [==============================] - 0s 4ms/step - loss: 0.2161 - accuracy: 0.9292 - precision: 0.9457 - a=recall: 0.9667\n",
            "Epoch 92/100\n",
            "4/4 [==============================] - 0s 5ms/step - loss: 0.2143 - accuracy: 0.9027 - precision: 0.9158 - a=recall: 0.9667\n",
            "Epoch 93/100\n",
            "4/4 [==============================] - 0s 4ms/step - loss: 0.2359 - accuracy: 0.9027 - precision: 0.9540 - a=recall: 0.9222\n",
            "Epoch 94/100\n",
            "4/4 [==============================] - 0s 5ms/step - loss: 0.2461 - accuracy: 0.8938 - precision: 0.8824 - a=recall: 1.0000\n",
            "Epoch 95/100\n",
            "4/4 [==============================] - 0s 4ms/step - loss: 0.2428 - accuracy: 0.8938 - precision: 0.9535 - a=recall: 0.9111\n",
            "Epoch 96/100\n",
            "4/4 [==============================] - 0s 4ms/step - loss: 0.2431 - accuracy: 0.8761 - precision: 0.8800 - a=recall: 0.9778\n",
            "Epoch 97/100\n",
            "4/4 [==============================] - 0s 4ms/step - loss: 0.2192 - accuracy: 0.8938 - precision: 0.8900 - a=recall: 0.9889\n",
            "Epoch 98/100\n",
            "4/4 [==============================] - 0s 4ms/step - loss: 0.2482 - accuracy: 0.8761 - precision: 0.9222 - a=recall: 0.9222\n",
            "Epoch 99/100\n",
            "4/4 [==============================] - 0s 4ms/step - loss: 0.2172 - accuracy: 0.9027 - precision: 0.9072 - a=recall: 0.9778\n",
            "Epoch 100/100\n",
            "4/4 [==============================] - 0s 5ms/step - loss: 0.2339 - accuracy: 0.9027 - precision: 0.9647 - a=recall: 0.9111\n"
          ]
        }
      ],
      "source": [
        "mod = model.fit(x_train,y_train, epochs  = 100 )"
      ]
    },
    {
      "cell_type": "code",
      "execution_count": null,
      "metadata": {
        "colab": {
          "base_uri": "https://localhost:8080/"
        },
        "id": "3exB63xshE2X",
        "outputId": "ab40af03-62b7-4885-d414-58518b878c2f"
      },
      "outputs": [
        {
          "name": "stderr",
          "output_type": "stream",
          "text": [
            "/usr/local/lib/python3.7/dist-packages/keras/optimizers/optimizer_v2/adam.py:110: UserWarning: The `lr` argument is deprecated, use `learning_rate` instead.\n",
            "  super(Adam, self).__init__(name, **kwargs)\n"
          ]
        }
      ],
      "source": [
        "tf.random.set_seed(42)\n",
        "\n",
        "# STEP1: Creating the model\n",
        "\n",
        "kit = tf.keras.Sequential([\n",
        "                            tf.keras.layers.Dense(10, activation='relu'),\n",
        "                            tf.keras.layers.Dense(7, activation='relu'),\n",
        "                            tf.keras.layers.Dense(5, activation='relu'),\n",
        "                            tf.keras.layers.Dense(1, activation='sigmoid')\n",
        "])\n",
        "\n",
        "# STEP2: Compiling the model\n",
        "\n",
        "kit.compile(loss= tf.keras.losses.binary_crossentropy,\n",
        "              optimizer= tf.keras.optimizers.Adam(lr=0.005),\n",
        "              metrics= [tf.keras.metrics.BinaryAccuracy(name='accuracy'),\n",
        "              ]\n",
        "              )\n",
        "\n"
      ]
    },
    {
      "cell_type": "code",
      "execution_count": null,
      "metadata": {
        "colab": {
          "base_uri": "https://localhost:8080/"
        },
        "id": "AgKviroMi6vr",
        "outputId": "4eca37d2-99f9-4ac2-9552-8cc3a81136ba"
      },
      "outputs": [
        {
          "name": "stdout",
          "output_type": "stream",
          "text": [
            "Epoch 1/20\n",
            "4/4 [==============================] - 1s 4ms/step - loss: 3.4724 - accuracy: 0.5664\n",
            "Epoch 2/20\n",
            "4/4 [==============================] - 0s 4ms/step - loss: 1.8308 - accuracy: 0.7257\n",
            "Epoch 3/20\n",
            "4/4 [==============================] - 0s 4ms/step - loss: 1.6558 - accuracy: 0.7965\n",
            "Epoch 4/20\n",
            "4/4 [==============================] - 0s 4ms/step - loss: 1.1517 - accuracy: 0.7611\n",
            "Epoch 5/20\n",
            "4/4 [==============================] - 0s 4ms/step - loss: 0.9258 - accuracy: 0.6372\n",
            "Epoch 6/20\n",
            "4/4 [==============================] - 0s 3ms/step - loss: 0.6034 - accuracy: 0.7699\n",
            "Epoch 7/20\n",
            "4/4 [==============================] - 0s 3ms/step - loss: 0.6600 - accuracy: 0.7965\n",
            "Epoch 8/20\n",
            "4/4 [==============================] - 0s 3ms/step - loss: 0.5449 - accuracy: 0.7965\n",
            "Epoch 9/20\n",
            "4/4 [==============================] - 0s 3ms/step - loss: 0.5674 - accuracy: 0.6549\n",
            "Epoch 10/20\n",
            "4/4 [==============================] - 0s 3ms/step - loss: 0.4572 - accuracy: 0.7876\n",
            "Epoch 11/20\n",
            "4/4 [==============================] - 0s 4ms/step - loss: 0.4847 - accuracy: 0.7965\n",
            "Epoch 12/20\n",
            "4/4 [==============================] - 0s 4ms/step - loss: 0.4378 - accuracy: 0.8053\n",
            "Epoch 13/20\n",
            "4/4 [==============================] - 0s 4ms/step - loss: 0.4169 - accuracy: 0.8053\n",
            "Epoch 14/20\n",
            "4/4 [==============================] - 0s 4ms/step - loss: 0.4199 - accuracy: 0.8053\n",
            "Epoch 15/20\n",
            "4/4 [==============================] - 0s 4ms/step - loss: 0.4040 - accuracy: 0.8230\n",
            "Epoch 16/20\n",
            "4/4 [==============================] - 0s 4ms/step - loss: 0.3950 - accuracy: 0.8142\n",
            "Epoch 17/20\n",
            "4/4 [==============================] - 0s 4ms/step - loss: 0.3851 - accuracy: 0.8230\n",
            "Epoch 18/20\n",
            "4/4 [==============================] - 0s 8ms/step - loss: 0.3774 - accuracy: 0.8053\n",
            "Epoch 19/20\n",
            "4/4 [==============================] - 0s 4ms/step - loss: 0.3750 - accuracy: 0.8407\n",
            "Epoch 20/20\n",
            "4/4 [==============================] - 0s 3ms/step - loss: 0.3729 - accuracy: 0.8053\n"
          ]
        }
      ],
      "source": [
        "kite  =  kit.fit(x_train,y_train, epochs = 20)"
      ]
    },
    {
      "cell_type": "code",
      "execution_count": null,
      "metadata": {
        "colab": {
          "base_uri": "https://localhost:8080/",
          "height": 283
        },
        "id": "ByMzZ6iQjT_S",
        "outputId": "65e5fa6a-5d2c-48b5-c8ed-012394fc99ad"
      },
      "outputs": [
        {
          "data": {
            "text/plain": [
              "<matplotlib.axes._subplots.AxesSubplot at 0x7f5b3f996290>"
            ]
          },
          "execution_count": 32,
          "metadata": {},
          "output_type": "execute_result"
        },
        {
          "data": {
            "image/png": "[encoded data removed]",
            "text/plain": [
              "<Figure size 432x288 with 1 Axes>"
            ]
          },
          "metadata": {},
          "output_type": "display_data"
        }
      ],
      "source": [
        "pd.DataFrame(kite.history).plot()"
      ]
    },
    {
      "cell_type": "code",
      "execution_count": null,
      "metadata": {
        "colab": {
          "base_uri": "https://localhost:8080/",
          "height": 171
        },
        "id": "CT7ID22GhkuQ",
        "outputId": "89341c8e-3c32-49dc-92c2-f7aba53b6b17"
      },
      "outputs": [
        {
          "ename": "NameError",
          "evalue": "ignored",
          "output_type": "error",
          "traceback": [
            "\u001b[0;31m---------------------------------------------------------------------------\u001b[0m",
            "\u001b[0;31mNameError\u001b[0m                                 Traceback (most recent call last)",
            "\u001b[0;32m<ipython-input-33-6d43124f5222>\u001b[0m in \u001b[0;36m<module>\u001b[0;34m\u001b[0m\n\u001b[0;32m----> 1\u001b[0;31m \u001b[0mpd\u001b[0m\u001b[0;34m.\u001b[0m\u001b[0mDataFrame\u001b[0m\u001b[0;34m(\u001b[0m\u001b[0mhistory\u001b[0m\u001b[0;34m.\u001b[0m\u001b[0mhistory\u001b[0m\u001b[0;34m)\u001b[0m\u001b[0;34m.\u001b[0m\u001b[0mplot\u001b[0m\u001b[0;34m(\u001b[0m\u001b[0;34m)\u001b[0m\u001b[0;34m\u001b[0m\u001b[0;34m\u001b[0m\u001b[0m\n\u001b[0m",
            "\u001b[0;31mNameError\u001b[0m: name 'history' is not defined"
          ]
        }
      ],
      "source": [
        "pd.DataFrame(history.history).plot()"
      ]
    },
    {
      "cell_type": "code",
      "execution_count": null,
      "metadata": {
        "id": "mezjCpxYovsN"
      },
      "outputs": [],
      "source": [
        "history= model.fit(x_train, y_train, epochs= 200)"
      ]
    },
    {
      "cell_type": "code",
      "execution_count": null,
      "metadata": {
        "id": "QGQXgAR1NVO6"
      },
      "outputs": [],
      "source": [
        "pd.DataFrame(history.history).plot()"
      ]
    },
    {
      "cell_type": "code",
      "execution_count": null,
      "metadata": {
        "id": "AmH8MrPjksh2"
      },
      "outputs": [],
      "source": [
        "pd.DataFrame(history.history).plot()"
      ]
    },
    {
      "cell_type": "code",
      "execution_count": null,
      "metadata": {
        "id": "1n_xG--Rciff"
      },
      "outputs": [],
      "source": []
    },
    {
      "cell_type": "markdown",
      "metadata": {
        "id": "_ZuUmniXQDBK"
      },
      "source": [
        "## testing cases"
      ]
    },
    {
      "cell_type": "code",
      "execution_count": null,
      "metadata": {
        "id": "D45uUM8HQMkW"
      },
      "outputs": [],
      "source": [
        "import tensorflow as tf "
      ]
    },
    {
      "cell_type": "code",
      "execution_count": null,
      "metadata": {
        "colab": {
          "base_uri": "https://localhost:8080/",
          "height": 341
        },
        "id": "gI94w26yQPg_",
        "outputId": "cb575a3e-8760-4e8d-c8e1-81e1e37cd099"
      },
      "outputs": [
        {
          "ename": "KeyError",
          "evalue": "ignored",
          "output_type": "error",
          "traceback": [
            "\u001b[0;31m---------------------------------------------------------------------------\u001b[0m",
            "\u001b[0;31mKeyError\u001b[0m                                  Traceback (most recent call last)",
            "\u001b[0;32m<ipython-input-146-e0350fb4028f>\u001b[0m in \u001b[0;36m<module>\u001b[0;34m\u001b[0m\n\u001b[0;32m----> 1\u001b[0;31m \u001b[0mx\u001b[0m \u001b[0;34m=\u001b[0m \u001b[0mdf_4\u001b[0m\u001b[0;34m.\u001b[0m\u001b[0mdrop\u001b[0m\u001b[0;34m(\u001b[0m\u001b[0;34m\"class\"\u001b[0m\u001b[0;34m,\u001b[0m \u001b[0maxis\u001b[0m \u001b[0;34m=\u001b[0m\u001b[0;36m1\u001b[0m\u001b[0;34m)\u001b[0m\u001b[0;34m\u001b[0m\u001b[0;34m\u001b[0m\u001b[0m\n\u001b[0m\u001b[1;32m      2\u001b[0m \u001b[0my\u001b[0m \u001b[0;34m=\u001b[0m \u001b[0mdf_4\u001b[0m\u001b[0;34m[\u001b[0m\u001b[0;34m\"class\"\u001b[0m\u001b[0;34m]\u001b[0m\u001b[0;34m\u001b[0m\u001b[0;34m\u001b[0m\u001b[0m\n",
            "\u001b[0;32m/usr/local/lib/python3.7/dist-packages/pandas/util/_decorators.py\u001b[0m in \u001b[0;36mwrapper\u001b[0;34m(*args, **kwargs)\u001b[0m\n\u001b[1;32m    309\u001b[0m                     \u001b[0mstacklevel\u001b[0m\u001b[0;34m=\u001b[0m\u001b[0mstacklevel\u001b[0m\u001b[0;34m,\u001b[0m\u001b[0;34m\u001b[0m\u001b[0;34m\u001b[0m\u001b[0m\n\u001b[1;32m    310\u001b[0m                 )\n\u001b[0;32m--> 311\u001b[0;31m             \u001b[0;32mreturn\u001b[0m \u001b[0mfunc\u001b[0m\u001b[0;34m(\u001b[0m\u001b[0;34m*\u001b[0m\u001b[0margs\u001b[0m\u001b[0;34m,\u001b[0m \u001b[0;34m**\u001b[0m\u001b[0mkwargs\u001b[0m\u001b[0;34m)\u001b[0m\u001b[0;34m\u001b[0m\u001b[0;34m\u001b[0m\u001b[0m\n\u001b[0m\u001b[1;32m    312\u001b[0m \u001b[0;34m\u001b[0m\u001b[0m\n\u001b[1;32m    313\u001b[0m         \u001b[0;32mreturn\u001b[0m \u001b[0mwrapper\u001b[0m\u001b[0;34m\u001b[0m\u001b[0;34m\u001b[0m\u001b[0m\n",
            "\u001b[0;32m/usr/local/lib/python3.7/dist-packages/pandas/core/frame.py\u001b[0m in \u001b[0;36mdrop\u001b[0;34m(self, labels, axis, index, columns, level, inplace, errors)\u001b[0m\n\u001b[1;32m   4911\u001b[0m             \u001b[0mlevel\u001b[0m\u001b[0;34m=\u001b[0m\u001b[0mlevel\u001b[0m\u001b[0;34m,\u001b[0m\u001b[0;34m\u001b[0m\u001b[0;34m\u001b[0m\u001b[0m\n\u001b[1;32m   4912\u001b[0m             \u001b[0minplace\u001b[0m\u001b[0;34m=\u001b[0m\u001b[0minplace\u001b[0m\u001b[0;34m,\u001b[0m\u001b[0;34m\u001b[0m\u001b[0;34m\u001b[0m\u001b[0m\n\u001b[0;32m-> 4913\u001b[0;31m             \u001b[0merrors\u001b[0m\u001b[0;34m=\u001b[0m\u001b[0merrors\u001b[0m\u001b[0;34m,\u001b[0m\u001b[0;34m\u001b[0m\u001b[0;34m\u001b[0m\u001b[0m\n\u001b[0m\u001b[1;32m   4914\u001b[0m         )\n\u001b[1;32m   4915\u001b[0m \u001b[0;34m\u001b[0m\u001b[0m\n",
            "\u001b[0;32m/usr/local/lib/python3.7/dist-packages/pandas/core/generic.py\u001b[0m in \u001b[0;36mdrop\u001b[0;34m(self, labels, axis, index, columns, level, inplace, errors)\u001b[0m\n\u001b[1;32m   4148\u001b[0m         \u001b[0;32mfor\u001b[0m \u001b[0maxis\u001b[0m\u001b[0;34m,\u001b[0m \u001b[0mlabels\u001b[0m \u001b[0;32min\u001b[0m \u001b[0maxes\u001b[0m\u001b[0;34m.\u001b[0m\u001b[0mitems\u001b[0m\u001b[0;34m(\u001b[0m\u001b[0;34m)\u001b[0m\u001b[0;34m:\u001b[0m\u001b[0;34m\u001b[0m\u001b[0;34m\u001b[0m\u001b[0m\n\u001b[1;32m   4149\u001b[0m             \u001b[0;32mif\u001b[0m \u001b[0mlabels\u001b[0m \u001b[0;32mis\u001b[0m \u001b[0;32mnot\u001b[0m \u001b[0;32mNone\u001b[0m\u001b[0;34m:\u001b[0m\u001b[0;34m\u001b[0m\u001b[0;34m\u001b[0m\u001b[0m\n\u001b[0;32m-> 4150\u001b[0;31m                 \u001b[0mobj\u001b[0m \u001b[0;34m=\u001b[0m \u001b[0mobj\u001b[0m\u001b[0;34m.\u001b[0m\u001b[0m_drop_axis\u001b[0m\u001b[0;34m(\u001b[0m\u001b[0mlabels\u001b[0m\u001b[0;34m,\u001b[0m \u001b[0maxis\u001b[0m\u001b[0;34m,\u001b[0m \u001b[0mlevel\u001b[0m\u001b[0;34m=\u001b[0m\u001b[0mlevel\u001b[0m\u001b[0;34m,\u001b[0m \u001b[0merrors\u001b[0m\u001b[0;34m=\u001b[0m\u001b[0merrors\u001b[0m\u001b[0;34m)\u001b[0m\u001b[0;34m\u001b[0m\u001b[0;34m\u001b[0m\u001b[0m\n\u001b[0m\u001b[1;32m   4151\u001b[0m \u001b[0;34m\u001b[0m\u001b[0m\n\u001b[1;32m   4152\u001b[0m         \u001b[0;32mif\u001b[0m \u001b[0minplace\u001b[0m\u001b[0;34m:\u001b[0m\u001b[0;34m\u001b[0m\u001b[0;34m\u001b[0m\u001b[0m\n",
            "\u001b[0;32m/usr/local/lib/python3.7/dist-packages/pandas/core/generic.py\u001b[0m in \u001b[0;36m_drop_axis\u001b[0;34m(self, labels, axis, level, errors)\u001b[0m\n\u001b[1;32m   4183\u001b[0m                 \u001b[0mnew_axis\u001b[0m \u001b[0;34m=\u001b[0m \u001b[0maxis\u001b[0m\u001b[0;34m.\u001b[0m\u001b[0mdrop\u001b[0m\u001b[0;34m(\u001b[0m\u001b[0mlabels\u001b[0m\u001b[0;34m,\u001b[0m \u001b[0mlevel\u001b[0m\u001b[0;34m=\u001b[0m\u001b[0mlevel\u001b[0m\u001b[0;34m,\u001b[0m \u001b[0merrors\u001b[0m\u001b[0;34m=\u001b[0m\u001b[0merrors\u001b[0m\u001b[0;34m)\u001b[0m\u001b[0;34m\u001b[0m\u001b[0;34m\u001b[0m\u001b[0m\n\u001b[1;32m   4184\u001b[0m             \u001b[0;32melse\u001b[0m\u001b[0;34m:\u001b[0m\u001b[0;34m\u001b[0m\u001b[0;34m\u001b[0m\u001b[0m\n\u001b[0;32m-> 4185\u001b[0;31m                 \u001b[0mnew_axis\u001b[0m \u001b[0;34m=\u001b[0m \u001b[0maxis\u001b[0m\u001b[0;34m.\u001b[0m\u001b[0mdrop\u001b[0m\u001b[0;34m(\u001b[0m\u001b[0mlabels\u001b[0m\u001b[0;34m,\u001b[0m \u001b[0merrors\u001b[0m\u001b[0;34m=\u001b[0m\u001b[0merrors\u001b[0m\u001b[0;34m)\u001b[0m\u001b[0;34m\u001b[0m\u001b[0;34m\u001b[0m\u001b[0m\n\u001b[0m\u001b[1;32m   4186\u001b[0m             \u001b[0mresult\u001b[0m \u001b[0;34m=\u001b[0m \u001b[0mself\u001b[0m\u001b[0;34m.\u001b[0m\u001b[0mreindex\u001b[0m\u001b[0;34m(\u001b[0m\u001b[0;34m**\u001b[0m\u001b[0;34m{\u001b[0m\u001b[0maxis_name\u001b[0m\u001b[0;34m:\u001b[0m \u001b[0mnew_axis\u001b[0m\u001b[0;34m}\u001b[0m\u001b[0;34m)\u001b[0m\u001b[0;34m\u001b[0m\u001b[0;34m\u001b[0m\u001b[0m\n\u001b[1;32m   4187\u001b[0m \u001b[0;34m\u001b[0m\u001b[0m\n",
            "\u001b[0;32m/usr/local/lib/python3.7/dist-packages/pandas/core/indexes/base.py\u001b[0m in \u001b[0;36mdrop\u001b[0;34m(self, labels, errors)\u001b[0m\n\u001b[1;32m   6015\u001b[0m         \u001b[0;32mif\u001b[0m \u001b[0mmask\u001b[0m\u001b[0;34m.\u001b[0m\u001b[0many\u001b[0m\u001b[0;34m(\u001b[0m\u001b[0;34m)\u001b[0m\u001b[0;34m:\u001b[0m\u001b[0;34m\u001b[0m\u001b[0;34m\u001b[0m\u001b[0m\n\u001b[1;32m   6016\u001b[0m             \u001b[0;32mif\u001b[0m \u001b[0merrors\u001b[0m \u001b[0;34m!=\u001b[0m \u001b[0;34m\"ignore\"\u001b[0m\u001b[0;34m:\u001b[0m\u001b[0;34m\u001b[0m\u001b[0;34m\u001b[0m\u001b[0m\n\u001b[0;32m-> 6017\u001b[0;31m                 \u001b[0;32mraise\u001b[0m \u001b[0mKeyError\u001b[0m\u001b[0;34m(\u001b[0m\u001b[0;34mf\"{labels[mask]} not found in axis\"\u001b[0m\u001b[0;34m)\u001b[0m\u001b[0;34m\u001b[0m\u001b[0;34m\u001b[0m\u001b[0m\n\u001b[0m\u001b[1;32m   6018\u001b[0m             \u001b[0mindexer\u001b[0m \u001b[0;34m=\u001b[0m \u001b[0mindexer\u001b[0m\u001b[0;34m[\u001b[0m\u001b[0;34m~\u001b[0m\u001b[0mmask\u001b[0m\u001b[0;34m]\u001b[0m\u001b[0;34m\u001b[0m\u001b[0;34m\u001b[0m\u001b[0m\n\u001b[1;32m   6019\u001b[0m         \u001b[0;32mreturn\u001b[0m \u001b[0mself\u001b[0m\u001b[0;34m.\u001b[0m\u001b[0mdelete\u001b[0m\u001b[0;34m(\u001b[0m\u001b[0mindexer\u001b[0m\u001b[0;34m)\u001b[0m\u001b[0;34m\u001b[0m\u001b[0;34m\u001b[0m\u001b[0m\n",
            "\u001b[0;31mKeyError\u001b[0m: \"['class'] not found in axis\""
          ]
        }
      ],
      "source": [
        "x = df_4.drop(\"class\", axis =1)\n",
        "y = df_4[\"class\"]"
      ]
    },
    {
      "cell_type": "markdown",
      "metadata": {
        "id": "sejMMRamQSTO"
      },
      "source": [
        "### Test size 0.2 "
      ]
    },
    {
      "cell_type": "code",
      "execution_count": null,
      "metadata": {
        "id": "RlTEAv3fQOaf"
      },
      "outputs": [],
      "source": [
        "from sklearn.model_selection import train_test_split\n",
        "x_train,x_test,y_train,y_test = train_test_split(x,y,test_size = 0.2, random_state = 42)"
      ]
    },
    {
      "cell_type": "code",
      "execution_count": null,
      "metadata": {
        "id": "PiK0utl9QB_H"
      },
      "outputs": [],
      "source": [
        "tf.random.set_seed(42)\n",
        "\n",
        "# STEP1: Creating the model\n",
        "\n",
        "model = tf.keras.Sequential([\n",
        "                            tf.keras.layers.Dense(10, activation='relu'),\n",
        "                            tf.keras.layers.Dense(7, activation='relu'),\n",
        "                            tf.keras.layers.Dense(5, activation='relu'),\n",
        "                            tf.keras.layers.Dense(1, activation='sigmoid')\n",
        "])\n",
        "\n",
        "# STEP2: Compiling the model\n",
        "\n",
        "model.compile(loss= tf.keras.losses.binary_crossentropy,\n",
        "              optimizer= tf.keras.optimizers.Adam(lr=0.005),\n",
        "              metrics= [tf.keras.metrics.BinaryAccuracy(name='accuracy'),\n",
        "                        tf.keras.metrics.Precision(name='precision')\n",
        "              ]\n",
        "              )\n"
      ]
    },
    {
      "cell_type": "code",
      "execution_count": null,
      "metadata": {
        "id": "XG-W1WpgQfRm"
      },
      "outputs": [],
      "source": [
        "mod = model.fit(x_train,y_train, epochs = 100\n",
        "                )"
      ]
    },
    {
      "cell_type": "code",
      "execution_count": null,
      "metadata": {
        "id": "aXEFCkMA7cSr"
      },
      "outputs": [],
      "source": [
        "pd.DataFrame(mod.history).plot()"
      ]
    },
    {
      "cell_type": "code",
      "execution_count": null,
      "metadata": {
        "id": "GgCSX2BfnQeq"
      },
      "outputs": [],
      "source": [
        "model.evaluate(x_test,y_test)"
      ]
    },
    {
      "cell_type": "code",
      "execution_count": null,
      "metadata": {
        "id": "qclT5egrRDam"
      },
      "outputs": [],
      "source": [
        "tf.random.set_seed(42)\n",
        "\n",
        "# STEP1: Creating the model\n",
        "\n",
        "model_S= tf.keras.Sequential([\n",
        "                            tf.keras.layers.Dense(10, activation='relu'),\n",
        "                            tf.keras.layers.Dense(7, activation='relu'),\n",
        "                            tf.keras.layers.Dense(5, activation='relu'),\n",
        "                            tf.keras.layers.Dense(1, activation='sigmoid')\n",
        "])\n",
        "\n",
        "# STEP2: Compiling the model\n",
        "\n",
        "model_S.compile(loss= tf.keras.losses.binary_crossentropy,\n",
        "              optimizer= tf.keras.optimizers.SGD(lr=0.005),\n",
        "              metrics= [tf.keras.metrics.BinaryAccuracy(name='accuracy'),\n",
        "                        tf.keras.metrics.Precision(name='precision')\n",
        "              ]\n",
        "              )\n"
      ]
    },
    {
      "cell_type": "code",
      "execution_count": null,
      "metadata": {
        "id": "EHgGMrMXQuS7"
      },
      "outputs": [],
      "source": [
        "mod_S  = model_S.fit(x_train,y_train, epochs = 100)"
      ]
    },
    {
      "cell_type": "code",
      "execution_count": null,
      "metadata": {
        "id": "8RRAkIa3nVzD"
      },
      "outputs": [],
      "source": [
        "model_S.evaluate(x_test,y_test)"
      ]
    },
    {
      "cell_type": "code",
      "execution_count": null,
      "metadata": {
        "id": "2jSXPWzU6-lw"
      },
      "outputs": [],
      "source": [
        "pd.DataFrame(mod_S.history).plot()"
      ]
    },
    {
      "cell_type": "markdown",
      "metadata": {
        "id": "nNIFWJjXRxbQ"
      },
      "source": [
        "### Test_size = 0.25"
      ]
    },
    {
      "cell_type": "code",
      "execution_count": null,
      "metadata": {
        "id": "9tFFvUptR4Xu"
      },
      "outputs": [],
      "source": [
        "x_train,x_test,y_train,y_test = train_test_split(x,y,test_size = 0.25, random_state  =42)"
      ]
    },
    {
      "cell_type": "code",
      "execution_count": null,
      "metadata": {
        "id": "ZPoIfPFaSO7P"
      },
      "outputs": [],
      "source": [
        "tf.random.set_seed(42)\n",
        "\n",
        "# STEP1: Creating the model\n",
        "\n",
        "model_2= tf.keras.Sequential([\n",
        "                            tf.keras.layers.Dense(10, activation='relu'),\n",
        "                            tf.keras.layers.Dense(7, activation='relu'),\n",
        "                            tf.keras.layers.Dense(5, activation='relu'),\n",
        "                            tf.keras.layers.Dense(1, activation='sigmoid')\n",
        "])\n",
        "\n",
        "# STEP2: Compiling the model\n",
        "\n",
        "model_2.compile(loss= tf.keras.losses.binary_crossentropy,\n",
        "              optimizer= tf.keras.optimizers.Adam(lr=0.005),\n",
        "              metrics= [tf.keras.metrics.BinaryAccuracy(name='accuracy'),\n",
        "                        tf.keras.metrics.Precision(name='precision')\n",
        "              ]\n",
        "              )"
      ]
    },
    {
      "cell_type": "code",
      "execution_count": null,
      "metadata": {
        "id": "agbGXQ4b48Xw"
      },
      "outputs": [],
      "source": [
        "mod_2 = model_2.fit(x_train,y_train, epochs = 100)"
      ]
    },
    {
      "cell_type": "code",
      "execution_count": null,
      "metadata": {
        "id": "tSHmjDor7qnC"
      },
      "outputs": [],
      "source": [
        "pd.DataFrame(mod_2.history).plot()"
      ]
    },
    {
      "cell_type": "code",
      "execution_count": null,
      "metadata": {
        "id": "L8tdYxJinm67"
      },
      "outputs": [],
      "source": [
        "model_2.fit(x_test,y_test)"
      ]
    },
    {
      "cell_type": "code",
      "execution_count": null,
      "metadata": {
        "id": "HRe6C6Jg5FZx"
      },
      "outputs": [],
      "source": [
        "tf.random.set_seed(42)\n",
        "\n",
        "# STEP1: Creating the model\n",
        "\n",
        "model_2s= tf.keras.Sequential([\n",
        "                            tf.keras.layers.Dense(10, activation='relu'),\n",
        "                            tf.keras.layers.Dense(7, activation='relu'),\n",
        "                            tf.keras.layers.Dense(5, activation='relu'),\n",
        "                            tf.keras.layers.Dense(1, activation='sigmoid')\n",
        "])\n",
        "\n",
        "# STEP2: Compiling the model\n",
        "\n",
        "model_2s.compile(loss= tf.keras.losses.binary_crossentropy,\n",
        "              optimizer= tf.keras.optimizers.SGD(lr=0.005),\n",
        "              metrics= [tf.keras.metrics.BinaryAccuracy(name='accuracy'),\n",
        "                        tf.keras.metrics.Precision(name='precision')\n",
        "              ]\n",
        "              )"
      ]
    },
    {
      "cell_type": "code",
      "execution_count": null,
      "metadata": {
        "id": "L0KNrqAi5GB5"
      },
      "outputs": [],
      "source": [
        "mod_2s = model_2s.fit(x_train,y_train, epochs = 100)"
      ]
    },
    {
      "cell_type": "code",
      "execution_count": null,
      "metadata": {
        "id": "nLnE2W3I70gZ"
      },
      "outputs": [],
      "source": [
        "pd.DataFrame(mod_2s.history).plot()"
      ]
    },
    {
      "cell_type": "code",
      "execution_count": null,
      "metadata": {
        "id": "7JTOTw05nrXk"
      },
      "outputs": [],
      "source": [
        "model_2s.evaluate(x_test,y_test)"
      ]
    },
    {
      "cell_type": "markdown",
      "metadata": {
        "id": "6BEKUygQ5QzI"
      },
      "source": [
        "### Test_size  = 0.3"
      ]
    },
    {
      "cell_type": "code",
      "execution_count": null,
      "metadata": {
        "id": "MSI6Klrn5ZdA"
      },
      "outputs": [],
      "source": [
        "x_train,x_test,y_train,y_test = train_test_split(x,y,test_size = 0.4, random_state  =42)"
      ]
    },
    {
      "cell_type": "code",
      "execution_count": null,
      "metadata": {
        "id": "KZhLqsbP5N2I"
      },
      "outputs": [],
      "source": [
        "tf.random.set_seed(42)\n",
        "\n",
        "# STEP1: Creating the model\n",
        "\n",
        "model_3= tf.keras.Sequential([\n",
        "                            tf.keras.layers.Dense(10, activation='relu'),\n",
        "                            tf.keras.layers.Dense(7, activation='relu'),\n",
        "                            tf.keras.layers.Dense(5, activation='relu'),\n",
        "                            tf.keras.layers.Dense(1, activation='sigmoid')\n",
        "])\n",
        "\n",
        "# STEP2: Compiling the model\n",
        "\n",
        "model_3.compile(loss= tf.keras.losses.binary_crossentropy,\n",
        "              optimizer= tf.keras.optimizers.Adam(lr=0.005),\n",
        "              metrics= [tf.keras.metrics.BinaryAccuracy(name='accuracy'),\n",
        "                        tf.keras.metrics.Precision(name='precision')\n",
        "              ]\n",
        "              )"
      ]
    },
    {
      "cell_type": "code",
      "execution_count": null,
      "metadata": {
        "id": "W3zhWYiJ5kI4"
      },
      "outputs": [],
      "source": [
        "mod_3 = model_3.fit(x_train,y_train, epochs = 100)"
      ]
    },
    {
      "cell_type": "code",
      "execution_count": null,
      "metadata": {
        "id": "X0DzoXqvD8pp"
      },
      "outputs": [],
      "source": [
        "pd.DataFrame(mod_3.history).plot()"
      ]
    },
    {
      "cell_type": "code",
      "execution_count": null,
      "metadata": {
        "id": "8W-mDFaOoV_E"
      },
      "outputs": [],
      "source": [
        "model_3.evaluate(x_test,y_test)"
      ]
    },
    {
      "cell_type": "code",
      "execution_count": null,
      "metadata": {
        "id": "SXLTEoL75xYo"
      },
      "outputs": [],
      "source": [
        "tf.random.set_seed(42)\n",
        "\n",
        "# STEP1: Creating the model\n",
        "\n",
        "model_3s= tf.keras.Sequential([\n",
        "                            tf.keras.layers.Dense(10, activation='relu'),\n",
        "                            tf.keras.layers.Dense(7, activation='relu'),\n",
        "                            tf.keras.layers.Dense(5, activation='relu'),\n",
        "                            tf.keras.layers.Dense(1, activation='sigmoid')\n",
        "])\n",
        "\n",
        "# STEP2: Compiling the model\n",
        "\n",
        "model_3s.compile(loss= tf.keras.losses.binary_crossentropy,\n",
        "              optimizer= tf.keras.optimizers.SGD(lr=0.005),\n",
        "              metrics= [tf.keras.metrics.BinaryAccuracy(name='accuracy'),\n",
        "                        tf.keras.metrics.Precision(name='precision')\n",
        "              ]\n",
        "              )"
      ]
    },
    {
      "cell_type": "code",
      "execution_count": null,
      "metadata": {
        "id": "Jw6JjVa050CL"
      },
      "outputs": [],
      "source": [
        "mod_3s = model_3s.fit(x_train,y_train, epochs = 100)"
      ]
    },
    {
      "cell_type": "code",
      "execution_count": null,
      "metadata": {
        "id": "in0-VCjZEKX5"
      },
      "outputs": [],
      "source": [
        "pd.DataFrame(mod_3s.history).plot()"
      ]
    },
    {
      "cell_type": "code",
      "execution_count": null,
      "metadata": {
        "id": "_LrgtJCnonWK"
      },
      "outputs": [],
      "source": [
        "model_3s.evaluate(x_test,y_test)"
      ]
    },
    {
      "cell_type": "markdown",
      "metadata": {
        "id": "3-IIpuID6RYn"
      },
      "source": [
        "### test_size = 0.4"
      ]
    },
    {
      "cell_type": "code",
      "execution_count": null,
      "metadata": {
        "id": "J9WDACf96Ul5"
      },
      "outputs": [],
      "source": [
        "x_train,x_test,y_train,y_test = train_test_split(x,y,test_size = 0.4, random_state  =42)"
      ]
    },
    {
      "cell_type": "code",
      "execution_count": null,
      "metadata": {
        "id": "lwHQKqrk6eyi"
      },
      "outputs": [],
      "source": [
        "tf.random.set_seed(42)\n",
        "\n",
        "# STEP1: Creating the model\n",
        "\n",
        "model_4= tf.keras.Sequential([\n",
        "                            tf.keras.layers.Dense(10, activation='relu'),\n",
        "                            tf.keras.layers.Dense(7, activation='relu'),\n",
        "                            tf.keras.layers.Dense(5, activation='relu'),\n",
        "                            tf.keras.layers.Dense(1, activation='sigmoid')\n",
        "])\n",
        "\n",
        "# STEP2: Compiling the model\n",
        "\n",
        "model_4.compile(loss= tf.keras.losses.binary_crossentropy,\n",
        "              optimizer= tf.keras.optimizers.Adam(lr=0.005),\n",
        "              metrics= [tf.keras.metrics.BinaryAccuracy(name='accuracy'),\n",
        "                        tf.keras.metrics.Precision(name='precision')\n",
        "              ]\n",
        "              )"
      ]
    },
    {
      "cell_type": "code",
      "execution_count": null,
      "metadata": {
        "id": "V-UuYjcm6js4"
      },
      "outputs": [],
      "source": [
        "mod_4 = model_4.fit(x_train,y_train, epochs = 100)"
      ]
    },
    {
      "cell_type": "code",
      "execution_count": null,
      "metadata": {
        "id": "jYzjezO5ESxs"
      },
      "outputs": [],
      "source": [
        "pd.DataFrame(mod_4.history).plot()"
      ]
    },
    {
      "cell_type": "code",
      "execution_count": null,
      "metadata": {
        "id": "BlPOap_EotFj"
      },
      "outputs": [],
      "source": [
        "model_4.evaluate(x_test,y_test)"
      ]
    },
    {
      "cell_type": "code",
      "execution_count": null,
      "metadata": {
        "id": "qbkECoTe6qOe"
      },
      "outputs": [],
      "source": [
        "tf.random.set_seed(42)\n",
        "\n",
        "# STEP1: Creating the model\n",
        "\n",
        "model_4s= tf.keras.Sequential([\n",
        "                            tf.keras.layers.Dense(10, activation='relu'),\n",
        "                            tf.keras.layers.Dense(7, activation='relu'),\n",
        "                            tf.keras.layers.Dense(5, activation='relu'),\n",
        "                            tf.keras.layers.Dense(1, activation='sigmoid')\n",
        "])\n",
        "\n",
        "# STEP2: Compiling the model\n",
        "\n",
        "model_4s.compile(loss= tf.keras.losses.binary_crossentropy,\n",
        "              optimizer= tf.keras.optimizers.SGD(lr=0.005),\n",
        "              metrics= [tf.keras.metrics.BinaryAccuracy(name='accuracy'),\n",
        "                        tf.keras.metrics.Precision(name='precision')\n",
        "              ]\n",
        "              )"
      ]
    },
    {
      "cell_type": "code",
      "execution_count": null,
      "metadata": {
        "id": "g7GNzr1T6yoI"
      },
      "outputs": [],
      "source": [
        "mod_4s = model_4s.fit(x_train,y_train, epochs = 100)"
      ]
    },
    {
      "cell_type": "code",
      "execution_count": null,
      "metadata": {
        "id": "FTnd7OSiEeMB"
      },
      "outputs": [],
      "source": [
        "pd.DataFrame(mod_4s.history).plot()"
      ]
    },
    {
      "cell_type": "code",
      "execution_count": null,
      "metadata": {
        "id": "_-DQgSRXEiXZ"
      },
      "outputs": [],
      "source": [
        "model_4s.evaluate(x_test,y_test)"
      ]
    },
    {
      "cell_type": "code",
      "execution_count": null,
      "metadata": {
        "id": "F7tdaEhDo3f7"
      },
      "outputs": [],
      "source": []
    },
    {
      "cell_type": "markdown",
      "metadata": {
        "id": "W_wvMOcHMRI5"
      },
      "source": [
        "## Experimentation"
      ]
    },
    {
      "cell_type": "code",
      "execution_count": null,
      "metadata": {
        "id": "2XKZZV_gfSWk"
      },
      "outputs": [],
      "source": [
        "import tensorflow as tf "
      ]
    },
    {
      "cell_type": "code",
      "execution_count": null,
      "metadata": {
        "id": "wSjNYjncfSWk"
      },
      "outputs": [],
      "source": [
        "x = df_4.drop(\"classi\", axis =1)\n",
        "y = df_4[\"classi\"]"
      ]
    },
    {
      "cell_type": "code",
      "execution_count": null,
      "metadata": {
        "id": "DpItl467MXWy"
      },
      "outputs": [],
      "source": [
        "from sklearn.model_selection import train_test_split\n",
        "x_train,x_test,y_train,y_test = train_test_split(x,y,test_size = 0.3, random_state = 42)"
      ]
    },
    {
      "cell_type": "code",
      "execution_count": null,
      "metadata": {
        "colab": {
          "base_uri": "https://localhost:8080/"
        },
        "id": "PN91tfXlMiLn",
        "outputId": "b1a4b1ea-6171-48df-fd27-0de9ff10a676"
      },
      "outputs": [
        {
          "output_type": "stream",
          "name": "stderr",
          "text": [
            "/usr/local/lib/python3.7/dist-packages/keras/optimizers/optimizer_v2/gradient_descent.py:108: UserWarning: The `lr` argument is deprecated, use `learning_rate` instead.\n",
            "  super(SGD, self).__init__(name, **kwargs)\n"
          ]
        }
      ],
      "source": [
        "tf.random.set_seed(42)\n",
        "\n",
        "# STEP1: Creating the model\n",
        "\n",
        "model = tf.keras.Sequential([\n",
        "                            tf.keras.layers.Dense(6,  activation = 'relu'),\n",
        "                            tf.keras.layers.Dense(3,  activation = 'relu'),\n",
        "                            tf.keras.layers.Dense(1, activation='sigmoid')\n",
        "])\n",
        "\n",
        "# STEP2: Compiling the model\n",
        "\n",
        "model.compile(loss= tf.keras.losses.binary_crossentropy,\n",
        "              optimizer= tf.keras.optimizers.SGD(lr=0.005),\n",
        "              metrics= [tf.keras.metrics.BinaryAccuracy(name='accuracy')\n",
        "              ]\n",
        "              )"
      ]
    },
    {
      "cell_type": "code",
      "execution_count": null,
      "metadata": {
        "id": "oplYmwyzMktf"
      },
      "outputs": [],
      "source": [
        "history  = model.fit(x_train,y_train,epochs = 400,verbose = 0)"
      ]
    },
    {
      "cell_type": "code",
      "execution_count": null,
      "metadata": {
        "colab": {
          "base_uri": "https://localhost:8080/"
        },
        "id": "WaQYu0HiPfrP",
        "outputId": "87331531-e417-47ab-f187-452350edf47a"
      },
      "outputs": [
        {
          "output_type": "stream",
          "name": "stdout",
          "text": [
            "2/2 [==============================] - 0s 9ms/step - loss: 0.3305 - accuracy: 0.8837\n"
          ]
        },
        {
          "output_type": "execute_result",
          "data": {
            "text/plain": [
              "[0.33046913146972656, 0.8837209343910217]"
            ]
          },
          "metadata": {},
          "execution_count": 188
        }
      ],
      "source": [
        "model.evaluate(x_test,y_test)"
      ]
    },
    {
      "cell_type": "code",
      "execution_count": null,
      "metadata": {
        "colab": {
          "base_uri": "https://localhost:8080/",
          "height": 283
        },
        "id": "FCoUcbLJVqyP",
        "outputId": "02b4efc4-6908-4f5e-d2f4-b92c4bcd0544"
      },
      "outputs": [
        {
          "output_type": "execute_result",
          "data": {
            "text/plain": [
              "<matplotlib.axes._subplots.AxesSubplot at 0x7fd4ca34d450>"
            ]
          },
          "metadata": {},
          "execution_count": 39
        },
        {
          "output_type": "display_data",
          "data": {
            "text/plain": [
              "<Figure size 432x288 with 1 Axes>"
            ],
            "image/png": "[encoded data removed]"
          },
          "metadata": {
            "needs_background": "light"
          }
        }
      ],
      "source": [
        "pd.DataFrame(history.history).plot()"
      ]
    },
    {
      "cell_type": "code",
      "execution_count": null,
      "metadata": {
        "id": "a4dkd-7kwJn1"
      },
      "outputs": [],
      "source": []
    }
  ],
  "metadata": {
    "colab": {
      "collapsed_sections": [
        "F-noG0OEcuwq",
        "_ZuUmniXQDBK",
        "sejMMRamQSTO",
        "nNIFWJjXRxbQ"
      ],
      "provenance": []
    },
    "kernelspec": {
      "display_name": "Python 3",
      "name": "python3"
    },
    "language_info": {
      "name": "python"
    }
  },
  "nbformat": 4,
  "nbformat_minor": 0
}